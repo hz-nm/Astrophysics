{
 "cells": [
  {
   "cell_type": "markdown",
   "metadata": {
    "id": "p0RViFUHZ4PH"
   },
   "source": [
    "# Interactively inspecting Target Pixel Files"
   ]
  },
  {
   "cell_type": "markdown",
   "metadata": {
    "id": "XIXKAQEFaSID"
   },
   "source": [
    "## Learning Goals\n",
    "\n",
    "By the end of this tutorial, you will:\n",
    "\n",
    "* Be able to inspect target pixel files and create custom light curves using the `interact()` tool.\n",
    "* Be able to identify stars in a target pixel file using `interact_sky()`.\n",
    "* Be able to interactively search for transiting planets in a light curve using `interact_bls()`.\n",
    "* Understand common issues with interactive functions and how to troubleshoot them."
   ]
  },
  {
   "cell_type": "markdown",
   "metadata": {
    "id": "3zIvzdXAbW7L"
   },
   "source": [
    "## Introduction"
   ]
  },
  {
   "cell_type": "markdown",
   "metadata": {
    "id": "UGyJQqXCZ4PJ"
   },
   "source": [
    "[Lightkurve](https://docs.lightkurve.org) has three interactive tools which make it possible to perform quick inspections and analyses of target pixel files and light curves. These functions use the [Bokeh](https://docs.bokeh.org/en/latest/index.html) library to create widgets within a Jupyter notebook. In this tutorial, we provide examples for how to best use the interactive tools in Lightkurve. "
   ]
  },
  {
   "cell_type": "markdown",
   "metadata": {
    "id": "83PqSs_4bYul"
   },
   "source": [
    "## Imports"
   ]
  },
  {
   "cell_type": "markdown",
   "metadata": {
    "id": "aRMlpAq8Sldc"
   },
   "source": [
    "The features demonstrated in this tutorial require only the [**Lightkurve**](https://docs.lightkurve.org) package."
   ]
  },
  {
   "cell_type": "code",
   "execution_count": 1,
   "metadata": {
    "id": "BbWxOzHFba23"
   },
   "outputs": [],
   "source": [
    "import lightkurve as lk"
   ]
  },
  {
   "cell_type": "markdown",
   "metadata": {
    "id": "EcOul8g5kN9F"
   },
   "source": [
    "---"
   ]
  },
  {
   "cell_type": "markdown",
   "metadata": {
    "id": "PonFKYZNZ4PK"
   },
   "source": [
    "## 1. Inspecting Target Pixel Files with `interact()`\n",
    "\n",
    "Using interact should be as convenient as downloading a *Kepler* target pixel file (TPF) and running the method [.interact()](https://docs.lightkurve.org/reference/api/lightkurve.KeplerTargetPixelFile.interact.html?highlight=interact#lightkurve.KeplerTargetPixelFile.interact).  This method can only be run in a Jupyter notebook at the moment.\n",
    "\n",
    "`.interact()` offers instantaneous interactive selection of the pixel mask, and instantaneous generation of the resulting light curve.  You can click on individual pixels and the aperture photometry seamlessly updates.  The mask can be defined with either individual clicking of pixels, or clicking and dragging a box over a rectangular set of pixels.  *De*selection of individual pixels works by re-clicking a pixel that you wish to take away from your mask.  Finally, you can save your mask and light curve as a FITS file by clicking on the `Save Lightcurve` button.\n",
    "\n",
    "The default mask is the *Kepler* \"pipeline\" mask, and can be modified as described above.\n",
    "\n",
    "In this tutorial, we introduce and explain the `tpf.interact()` tool that accomplishes the goal of interactively inspecting the TPFs and ligh tcurve simultaneously."
   ]
  },
  {
   "cell_type": "markdown",
   "metadata": {
    "id": "1BKRy5y6Z4PK"
   },
   "source": [
    "Let's first look at the target HL Tau, a young star that possesses a gapped circumstellar disk which has been [imaged by the Atacama Large Millimeter Array](http://www.almaobservatory.org/en/press-release/revolutionary-alma-image-reveals-planetary-genesis/)."
   ]
  },
  {
   "cell_type": "code",
   "execution_count": 2,
   "metadata": {
    "id": "3iLeVxL2Z4PL"
   },
   "outputs": [],
   "source": [
    "tpf = lk.search_targetpixelfile(\"HL Tau\", author='K2', campaign=13, cadence='long').download()"
   ]
  },
  {
   "cell_type": "markdown",
   "metadata": {
    "id": "Sv_ZaJGVZ4PO"
   },
   "source": [
    "The *K2* postage stamp of HL Tau contains a portion of a nearby source of comparable brightness.  The weakly overlapping point spread functions (PSFs) of these sources motivate some caution in aperture choice.  Let's interactively assign a custom aperture photometry pixel mask:"
   ]
  },
  {
   "cell_type": "markdown",
   "metadata": {
    "id": "-tRTFTDiZ4PP"
   },
   "source": [
    "```python\n",
    "tpf.interact()\n",
    "```"
   ]
  },
  {
   "cell_type": "markdown",
   "metadata": {
    "id": "oXjaP4KzZ4PP"
   },
   "source": [
    "![Lightkurve interact() demo](interact-screenshots/interact_hltau.gif)"
   ]
  },
  {
   "cell_type": "markdown",
   "metadata": {
    "id": "aKB0-v9cZ4PQ"
   },
   "source": [
    "You can move the large bottom left slider to change the location of the vertical red bar, which indicates which cadence is being shown in the TPF postage stamp image.  The slider beneath the TPF postage stamp image controls the screen stretch, which defaults to logarithmic scaling initialized to 1% and 95% lower and upper limits respectively.\n",
    "\n",
    "You can move your cursor over individual data points to show hover-over tooltips indicating additional information about that datum. Currently the tooltips list the cadence, time, flux, and quality flags. The tools on the right hand side of the plots enable zooming and pixel selection."
   ]
  },
  {
   "cell_type": "markdown",
   "metadata": {
    "id": "IH7014ytZ4PR"
   },
   "source": [
    "We see that the starting mask (the *Kepler* pipeline mask, by default), shows huge jumps in flux between times 3000 and 3020.  These jagged artifacts disappear upon the selection of a larger aperture — large enough to encompass most of the point spread function of the star.  The end result shows a time series light curve of a young disk-bearing star."
   ]
  },
  {
   "cell_type": "markdown",
   "metadata": {
    "id": "FWxoegULZ4PR"
   },
   "source": [
    "Interaction modes:\n",
    "\n",
    "- Clicking on a single pixel shows the time series light curve of that pixel alone.  \n",
    "- `shift`-clicking on multiple pixels shows the light curve using that pixel mask. (*)\n",
    "- `shift`-`ctrl`-clicking on an already selected pixel will *de*select that pixel. (May only work on Windows systems.)\n",
    "- Clicking and dragging a box will make a rectangular aperture mask — individual pixels can be deselected from this mask by shift-clicking (box deselecting does not work).\n",
    "- The screen stretch high and low limits can be changed independently by clicking and dragging each end, or simultaneously by clicking and dragging in the middle.\n",
    "- The cadence slider updates the postage stamp image at the position of the vertical red bar in the light curve.\n",
    "- Clicking on a position in the light curve automatically seeks to that cadence number.\n",
    "- The left and right arrows can be clicked to increment the cadence number by one.\n",
    "- (*) `shift`-clicking does not work on Jupyter Lab as of this writing, due to conflicts between Bokeh and Jupyter Lab. Refer to the [tracking issue](https://github.com/bokeh/bokeh/issues/11324) for current status."
   ]
  },
  {
   "cell_type": "markdown",
   "metadata": {
    "id": "IiSVhREpZ4PS"
   },
   "source": [
    "The `interact()` tool works for *Kepler*/*K2* or *TESS* data. Here we show an example using *Kepler* data — KOI 6.01 (KIC 3248033) sits four pixels away from eclipsing binary KOI 1759.01 (KIC 3248019). An unwise choice of pixels can give rise to a spurious exoplanet signal."
   ]
  },
  {
   "cell_type": "code",
   "execution_count": 3,
   "metadata": {
    "id": "RCIWMrenZ4PS"
   },
   "outputs": [],
   "source": [
    "tpf = lk.search_targetpixelfile('KIC 3248033', author=\"Kepler\", quarter=4).download()"
   ]
  },
  {
   "cell_type": "markdown",
   "metadata": {
    "id": "7o_5CF-XZ4PV"
   },
   "source": [
    "```python\n",
    "tpf.interact()\n",
    "```"
   ]
  },
  {
   "cell_type": "code",
   "execution_count": 6,
   "metadata": {},
   "outputs": [
    {
     "data": {
      "application/javascript": "\n(function(root) {\n  function now() {\n    return new Date();\n  }\n\n  const force = true;\n\n  if (typeof root._bokeh_onload_callbacks === \"undefined\" || force === true) {\n    root._bokeh_onload_callbacks = [];\n    root._bokeh_is_loading = undefined;\n  }\n\n  const JS_MIME_TYPE = 'application/javascript';\n  const HTML_MIME_TYPE = 'text/html';\n  const EXEC_MIME_TYPE = 'application/vnd.bokehjs_exec.v0+json';\n  const CLASS_NAME = 'output_bokeh rendered_html';\n\n  /**\n   * Render data to the DOM node\n   */\n  function render(props, node) {\n    const script = document.createElement(\"script\");\n    node.appendChild(script);\n  }\n\n  /**\n   * Handle when an output is cleared or removed\n   */\n  function handleClearOutput(event, handle) {\n    const cell = handle.cell;\n\n    const id = cell.output_area._bokeh_element_id;\n    const server_id = cell.output_area._bokeh_server_id;\n    // Clean up Bokeh references\n    if (id != null && id in Bokeh.index) {\n      Bokeh.index[id].model.document.clear();\n      delete Bokeh.index[id];\n    }\n\n    if (server_id !== undefined) {\n      // Clean up Bokeh references\n      const cmd_clean = \"from bokeh.io.state import curstate; print(curstate().uuid_to_server['\" + server_id + \"'].get_sessions()[0].document.roots[0]._id)\";\n      cell.notebook.kernel.execute(cmd_clean, {\n        iopub: {\n          output: function(msg) {\n            const id = msg.content.text.trim();\n            if (id in Bokeh.index) {\n              Bokeh.index[id].model.document.clear();\n              delete Bokeh.index[id];\n            }\n          }\n        }\n      });\n      // Destroy server and session\n      const cmd_destroy = \"import bokeh.io.notebook as ion; ion.destroy_server('\" + server_id + \"')\";\n      cell.notebook.kernel.execute(cmd_destroy);\n    }\n  }\n\n  /**\n   * Handle when a new output is added\n   */\n  function handleAddOutput(event, handle) {\n    const output_area = handle.output_area;\n    const output = handle.output;\n\n    // limit handleAddOutput to display_data with EXEC_MIME_TYPE content only\n    if ((output.output_type != \"display_data\") || (!Object.prototype.hasOwnProperty.call(output.data, EXEC_MIME_TYPE))) {\n      return\n    }\n\n    const toinsert = output_area.element.find(\".\" + CLASS_NAME.split(' ')[0]);\n\n    if (output.metadata[EXEC_MIME_TYPE][\"id\"] !== undefined) {\n      toinsert[toinsert.length - 1].firstChild.textContent = output.data[JS_MIME_TYPE];\n      // store reference to embed id on output_area\n      output_area._bokeh_element_id = output.metadata[EXEC_MIME_TYPE][\"id\"];\n    }\n    if (output.metadata[EXEC_MIME_TYPE][\"server_id\"] !== undefined) {\n      const bk_div = document.createElement(\"div\");\n      bk_div.innerHTML = output.data[HTML_MIME_TYPE];\n      const script_attrs = bk_div.children[0].attributes;\n      for (let i = 0; i < script_attrs.length; i++) {\n        toinsert[toinsert.length - 1].firstChild.setAttribute(script_attrs[i].name, script_attrs[i].value);\n        toinsert[toinsert.length - 1].firstChild.textContent = bk_div.children[0].textContent\n      }\n      // store reference to server id on output_area\n      output_area._bokeh_server_id = output.metadata[EXEC_MIME_TYPE][\"server_id\"];\n    }\n  }\n\n  function register_renderer(events, OutputArea) {\n\n    function append_mime(data, metadata, element) {\n      // create a DOM node to render to\n      const toinsert = this.create_output_subarea(\n        metadata,\n        CLASS_NAME,\n        EXEC_MIME_TYPE\n      );\n      this.keyboard_manager.register_events(toinsert);\n      // Render to node\n      const props = {data: data, metadata: metadata[EXEC_MIME_TYPE]};\n      render(props, toinsert[toinsert.length - 1]);\n      element.append(toinsert);\n      return toinsert\n    }\n\n    /* Handle when an output is cleared or removed */\n    events.on('clear_output.CodeCell', handleClearOutput);\n    events.on('delete.Cell', handleClearOutput);\n\n    /* Handle when a new output is added */\n    events.on('output_added.OutputArea', handleAddOutput);\n\n    /**\n     * Register the mime type and append_mime function with output_area\n     */\n    OutputArea.prototype.register_mime_type(EXEC_MIME_TYPE, append_mime, {\n      /* Is output safe? */\n      safe: true,\n      /* Index of renderer in `output_area.display_order` */\n      index: 0\n    });\n  }\n\n  // register the mime type if in Jupyter Notebook environment and previously unregistered\n  if (root.Jupyter !== undefined) {\n    const events = require('base/js/events');\n    const OutputArea = require('notebook/js/outputarea').OutputArea;\n\n    if (OutputArea.prototype.mime_types().indexOf(EXEC_MIME_TYPE) == -1) {\n      register_renderer(events, OutputArea);\n    }\n  }\n\n  \n  if (typeof (root._bokeh_timeout) === \"undefined\" || force === true) {\n    root._bokeh_timeout = Date.now() + 5000;\n    root._bokeh_failed_load = false;\n  }\n\n  const NB_LOAD_WARNING = {'data': {'text/html':\n     \"<div style='background-color: #fdd'>\\n\"+\n     \"<p>\\n\"+\n     \"BokehJS does not appear to have successfully loaded. If loading BokehJS from CDN, this \\n\"+\n     \"may be due to a slow or bad network connection. Possible fixes:\\n\"+\n     \"</p>\\n\"+\n     \"<ul>\\n\"+\n     \"<li>re-rerun `output_notebook()` to attempt to load from CDN again, or</li>\\n\"+\n     \"<li>use INLINE resources instead, as so:</li>\\n\"+\n     \"</ul>\\n\"+\n     \"<code>\\n\"+\n     \"from bokeh.resources import INLINE\\n\"+\n     \"output_notebook(resources=INLINE)\\n\"+\n     \"</code>\\n\"+\n     \"</div>\"}};\n\n  function display_loaded() {\n    const el = document.getElementById(null);\n    if (el != null) {\n      el.textContent = \"BokehJS is loading...\";\n    }\n    if (root.Bokeh !== undefined) {\n      if (el != null) {\n        el.textContent = \"BokehJS \" + root.Bokeh.version + \" successfully loaded.\";\n      }\n    } else if (Date.now() < root._bokeh_timeout) {\n      setTimeout(display_loaded, 100)\n    }\n  }\n\n\n  function run_callbacks() {\n    try {\n      root._bokeh_onload_callbacks.forEach(function(callback) {\n        if (callback != null)\n          callback();\n      });\n    } finally {\n      delete root._bokeh_onload_callbacks\n    }\n    console.debug(\"Bokeh: all callbacks have finished\");\n  }\n\n  function load_libs(css_urls, js_urls, callback) {\n    if (css_urls == null) css_urls = [];\n    if (js_urls == null) js_urls = [];\n\n    root._bokeh_onload_callbacks.push(callback);\n    if (root._bokeh_is_loading > 0) {\n      console.debug(\"Bokeh: BokehJS is being loaded, scheduling callback at\", now());\n      return null;\n    }\n    if (js_urls == null || js_urls.length === 0) {\n      run_callbacks();\n      return null;\n    }\n    console.debug(\"Bokeh: BokehJS not loaded, scheduling load and callback at\", now());\n    root._bokeh_is_loading = css_urls.length + js_urls.length;\n\n    function on_load() {\n      root._bokeh_is_loading--;\n      if (root._bokeh_is_loading === 0) {\n        console.debug(\"Bokeh: all BokehJS libraries/stylesheets loaded\");\n        run_callbacks()\n      }\n    }\n\n    function on_error(url) {\n      console.error(\"failed to load \" + url);\n    }\n\n    for (let i = 0; i < css_urls.length; i++) {\n      const url = css_urls[i];\n      const element = document.createElement(\"link\");\n      element.onload = on_load;\n      element.onerror = on_error.bind(null, url);\n      element.rel = \"stylesheet\";\n      element.type = \"text/css\";\n      element.href = url;\n      console.debug(\"Bokeh: injecting link tag for BokehJS stylesheet: \", url);\n      document.body.appendChild(element);\n    }\n\n    for (let i = 0; i < js_urls.length; i++) {\n      const url = js_urls[i];\n      const element = document.createElement('script');\n      element.onload = on_load;\n      element.onerror = on_error.bind(null, url);\n      element.async = false;\n      element.src = url;\n      console.debug(\"Bokeh: injecting script tag for BokehJS library: \", url);\n      document.head.appendChild(element);\n    }\n  };\n\n  function inject_raw_css(css) {\n    const element = document.createElement(\"style\");\n    element.appendChild(document.createTextNode(css));\n    document.body.appendChild(element);\n  }\n\n  \n  const js_urls = [\"https://cdn.bokeh.org/bokeh/release/bokeh-2.4.2.min.js\", \"https://cdn.bokeh.org/bokeh/release/bokeh-gl-2.4.2.min.js\", \"https://cdn.bokeh.org/bokeh/release/bokeh-widgets-2.4.2.min.js\", \"https://cdn.bokeh.org/bokeh/release/bokeh-tables-2.4.2.min.js\", \"https://cdn.bokeh.org/bokeh/release/bokeh-mathjax-2.4.2.min.js\"];\n  const css_urls = [];\n  \n\n  const inline_js = [\n    function(Bokeh) {\n      Bokeh.set_log_level(\"info\");\n    },\n    function(Bokeh) {\n    \n    \n    }\n  ];\n\n  function run_inline_js() {\n    \n    if (root.Bokeh !== undefined || force === true) {\n      \n    for (let i = 0; i < inline_js.length; i++) {\n      inline_js[i].call(root, root.Bokeh);\n    }\n    } else if (Date.now() < root._bokeh_timeout) {\n      setTimeout(run_inline_js, 100);\n    } else if (!root._bokeh_failed_load) {\n      console.log(\"Bokeh: BokehJS failed to load within specified timeout.\");\n      root._bokeh_failed_load = true;\n    } else if (force !== true) {\n      const cell = $(document.getElementById(null)).parents('.cell').data().cell;\n      cell.output_area.append_execute_result(NB_LOAD_WARNING)\n    }\n\n  }\n\n  if (root._bokeh_is_loading === 0) {\n    console.debug(\"Bokeh: BokehJS loaded, going straight to plotting\");\n    run_inline_js();\n  } else {\n    load_libs(css_urls, js_urls, function() {\n      console.debug(\"Bokeh: BokehJS plotting callback run at\", now());\n      run_inline_js();\n    });\n  }\n}(window));",
      "application/vnd.bokehjs_load.v0+json": ""
     },
     "metadata": {},
     "output_type": "display_data"
    },
    {
     "data": {
      "application/vnd.bokehjs_exec.v0+json": "",
      "text/html": [
       "\n",
       "<script id=\"1328\">\n",
       "  (function() {\n",
       "    const xhr = new XMLHttpRequest()\n",
       "    xhr.responseType = 'blob';\n",
       "    xhr.open('GET', \"http://localhost:59626/autoload.js?bokeh-autoload-element=1328&bokeh-absolute-url=http://localhost:59626&resources=none\", true);\n",
       "    \n",
       "    xhr.onload = function (event) {\n",
       "      const script = document.createElement('script');\n",
       "      const src = URL.createObjectURL(event.target.response);\n",
       "      script.src = src;\n",
       "      document.body.appendChild(script);\n",
       "    };\n",
       "    xhr.send();\n",
       "  })();\n",
       "</script>"
      ]
     },
     "metadata": {
      "application/vnd.bokehjs_exec.v0+json": {
       "server_id": "17e21ae7b70449fda32e99f62abf7a17"
      }
     },
     "output_type": "display_data"
    },
    {
     "name": "stderr",
     "output_type": "stream",
     "text": [
      "ERROR:bokeh.server.views.ws:Refusing websocket connection from Origin 'vscode-webview://13gmhfo5ds7nttq9mkjj1h8j71iqvfegeouufb32bo5khohn89th';                       use --allow-websocket-origin=13gmhfo5ds7nttq9mkjj1h8j71iqvfegeouufb32bo5khohn89th or set BOKEH_ALLOW_WS_ORIGIN=13gmhfo5ds7nttq9mkjj1h8j71iqvfegeouufb32bo5khohn89th to permit this; currently we allow origins {'localhost:8888'}\n",
      "WARNING:tornado.access:403 GET /ws?id=9aa5fd06-877b-4104-adc1-ec5935f01147&swVersion=4&extensionId=&platform=electron&vscode-resource-base-authority=vscode-resource.vscode-cdn.net&parentOrigin=vscode-file%3A%2F%2Fvscode-app&purpose=notebookRenderer (::1) 1.03ms\n"
     ]
    }
   ],
   "source": [
    "tpf.interact()"
   ]
  },
  {
   "cell_type": "markdown",
   "metadata": {
    "id": "ito8_wAmZ4PW"
   },
   "source": [
    "![Lightkurve interact() demo](interact-screenshots/interact_eb_contam.gif)"
   ]
  },
  {
   "cell_type": "markdown",
   "metadata": {
    "id": "Obk6tUXxZ4PW"
   },
   "source": [
    "You can see that the *Kepler* pointing is remarkably stable over this *Kepler* Quarter of 89 days. The value of interact arises from its ability to discern the spatial origin of signals. In this case, an eclipsing binary occupies the pixels towards the top of the postage stamp image.  The target of interest occupies the pixels in the middle. The optimal aperture mask should avoid pixels near the top in order to mitigate an artificial planet signal."
   ]
  },
  {
   "cell_type": "markdown",
   "metadata": {
    "id": "q4k68kHYbi17"
   },
   "source": [
    "## 2. Identifying Stars in Target Pixel Files with `interact_sky()`\n",
    "\n",
    "Lightkurve has an additional tool to interactively inspect target pixel files — `.interact_sky`. This method brings up a single frame of the target pixel file with targets identified by Gaia marked by red circles. The size of the circle scales with the magnitude of the target, where brighter sources are larger and fainter sources are smaller. Using your cursor, you can hover over the red circles to display useful information from Gaia, including its Gaia ID, G band magnitude, and coordinates."
   ]
  },
  {
   "cell_type": "markdown",
   "metadata": {
    "id": "V2i1rlaiOjLd"
   },
   "source": [
    "![interact_sky_overview](interact-screenshots/interact_sky_overview.gif)"
   ]
  },
  {
   "cell_type": "markdown",
   "metadata": {
    "id": "l_QKrrv7PRmX"
   },
   "source": [
    "Like `.interact` in section 1, [.interact_sky](https://docs.lightkurve.org/reference/api/lightkurve.KeplerTargetPixelFile.interact_sky.html?highlight=interact_sky#lightkurve.KeplerTargetPixelFile.interact_sky) allows you to change the screen stretch, giving you more control over the image display."
   ]
  },
  {
   "cell_type": "markdown",
   "metadata": {
    "id": "kFTq89ryPhuN"
   },
   "source": [
    "![interact_sky stretch](interact-screenshots/interact_sky_stretch.gif)"
   ]
  },
  {
   "cell_type": "markdown",
   "metadata": {
    "id": "m__xspgkPms9"
   },
   "source": [
    "Finally, you can zoom in on different regions of the TPF by clicking the magnifying glass icon and scrolling over the image."
   ]
  },
  {
   "cell_type": "markdown",
   "metadata": {
    "id": "xkH6K-8wPy2e"
   },
   "source": [
    "![interact_sky zoom](interact-screenshots/interact_sky_zoom.gif)"
   ]
  },
  {
   "cell_type": "markdown",
   "metadata": {
    "id": "Z3bfUXfVb3F5"
   },
   "source": [
    "## 3. Searching for Transiting Planets in Light Curves with `interact_bls()`"
   ]
  },
  {
   "cell_type": "markdown",
   "metadata": {
    "id": "BiWfRPdrP1zT"
   },
   "source": [
    "There is also an interactive tool for `LightCurve` objects called [.interact_bls](https://docs.lightkurve.org/reference/api/lightkurve.LightCurve.interact_bls.html?highlight=interact_bls#lightkurve.LightCurve.interact_bls). BLS, or Box Least Squares, is a method for identifying transit signals in a light curve. For more information about how to use BLS to find transiting planets in *Kepler*/*K2* or *TESS* light curves, please see the companion tutorial on identifying transiting planet signals in a *Kepler* light curve.\n",
    "\n",
    "The `.interact_bls` method allows you to identify periodic transit signals in light curves by manually selecting the period and duration of the signal. "
   ]
  },
  {
   "cell_type": "markdown",
   "metadata": {
    "id": "hz46n4cYP2CO"
   },
   "source": [
    "![interact_bls](interact-screenshots/interact_bls.gif)"
   ]
  },
  {
   "cell_type": "markdown",
   "metadata": {
    "id": "3Kbmx-QuRtCW"
   },
   "source": [
    "The light curve in the top right panel is phase-folded with the highest power period. When you zoom in on a region of period space in the BLS periodogram, it will automatically update the phase plot with the new period-at-max-power. Changing the duration using the slider in the bottom left will also update the BLS periodogram and phase-folded light curve. Finally, the parameters of the BLS model can be found in the bottom right panel."
   ]
  },
  {
   "cell_type": "markdown",
   "metadata": {
    "id": "1GiGO89nZ4PW"
   },
   "source": [
    "## 4. Troubleshooting Interactive Tools\n",
    "\n",
    "There are a few known limitations of the interactive tools.  First, they only work in a Jupyter notebook. Second, you must either run the interactive functions from the default Jupyter notebook address \"localhost:8888,\" **or tell the function the name of the notebook server**, for example:\n",
    "\n",
    "```python\n",
    "tpf.interact(notebook_url='localhost:8893')\n",
    "```\n",
    "\n",
    "Otherwise, you will likely see an error message like this:"
   ]
  },
  {
   "cell_type": "markdown",
   "metadata": {
    "id": "YzCg4YoMW5li"
   },
   "source": [
    "<img style=\"float: right;\" src=\"interact-screenshots/bokeh_error.png\" alt=\"Bokeh Error\" width=\"1200px\"/>\n"
   ]
  },
  {
   "cell_type": "markdown",
   "metadata": {
    "id": "2tNTwpUfZ4Pa"
   },
   "source": [
    "Other unexpected behaviors can occur.  For example, when resetting the image views, the revised plot scaling may not display the data. Attempting to deselect with a box will cause unexpected toggling of pixels. Deselection only works with the tap tool, so box selections should use caution not to overlap with existing pixels. Surprisingly, deselection does not work for the most recently added pixel. Light curves with more than 200,000 cadences require either an increase in the `max_cadences` kwarg, or slicing of your input TPF like so:\n",
    "\n",
    "```python\n",
    "# Only show the first 1000 cadences to makes the tool faster\n",
    "tpf[0:1000].interact()\n",
    "\n",
    "# Override the maximum cadence limit\n",
    "tpf.interact(max_cadences=300000)\n",
    "```\n",
    "\n",
    "\n",
    "We'd like to thank the developers of [Bokeh](https://bokeh.pydata.org/en/latest/), upon which our interactive tools rely."
   ]
  },
  {
   "cell_type": "markdown",
   "metadata": {
    "id": "SPYL2mPdaoBr"
   },
   "source": [
    "## About this Notebook\n",
    "\n",
    "**Authors**: Michael Gully-Santiago (igully@gmail.com), Nicholas Saunders (nksaun@hawaii.edu)\n",
    "\n",
    "**Updated**: September 29, 2020"
   ]
  },
  {
   "cell_type": "markdown",
   "metadata": {
    "id": "Qyf5cloNau8R"
   },
   "source": [
    "## Citing Lightkurve and Astropy\n",
    "\n",
    "If you use `lightkurve` or its dependencies in your published research, please cite the authors. Click the buttons below to copy BibTeX entries to your clipboard."
   ]
  },
  {
   "cell_type": "code",
   "execution_count": null,
   "metadata": {
    "colab": {
     "base_uri": "https://localhost:8080/",
     "height": 144
    },
    "executionInfo": {
     "elapsed": 20356,
     "status": "ok",
     "timestamp": 1601441420585,
     "user": {
      "displayName": "Nicholas Saunders",
      "photoUrl": "https://lh3.googleusercontent.com/a-/AOh14Gh7sVvRg71xSOfsmzP_w4pWGhDPHXsFPRAogeIX=s64",
      "userId": "15471372856618011103"
     },
     "user_tz": 600
    },
    "id": "i_DkknFcajnZ",
    "outputId": "c90a3cf9-5728-4ba3-dab2-337557ab0deb"
   },
   "outputs": [],
   "source": [
    "lk.show_citation_instructions()"
   ]
  },
  {
   "cell_type": "markdown",
   "metadata": {
    "id": "zFbaRDHeaxe4"
   },
   "source": [
    "<img style=\"float: right;\" src=\"https://raw.githubusercontent.com/spacetelescope/notebooks/master/assets/stsci_pri_combo_mark_horizonal_white_bkgd.png\" alt=\"Space Telescope Logo\" width=\"200px\"/>\n"
   ]
  }
 ],
 "metadata": {
  "colab": {
   "collapsed_sections": [],
   "name": "How to interactively inspect Target Pixel Files and Light Curves",
   "provenance": [
    {
     "file_id": "https://github.com/KeplerGO/lightkurve/blob/master/docs/source/tutorials/04-interact-with-lightcurves-and-tpf.ipynb",
     "timestamp": 1601425609830
    }
   ]
  },
  "interpreter": {
   "hash": "193c3cba8ec7d38f0dba3d41329f48e4b933c5213bf30bd1118a23118d17213d"
  },
  "kernelspec": {
   "display_name": "Python 3.8.8 ('astro')",
   "language": "python",
   "name": "python3"
  },
  "language_info": {
   "codemirror_mode": {
    "name": "ipython",
    "version": 3
   },
   "file_extension": ".py",
   "mimetype": "text/x-python",
   "name": "python",
   "nbconvert_exporter": "python",
   "pygments_lexer": "ipython3",
   "version": "3.8.8"
  }
 },
 "nbformat": 4,
 "nbformat_minor": 4
}
