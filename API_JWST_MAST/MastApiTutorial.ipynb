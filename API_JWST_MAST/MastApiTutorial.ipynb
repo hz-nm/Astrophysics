{
 "cells": [
  {
   "cell_type": "markdown",
   "metadata": {},
   "source": [
    "# MAST API Tutorial\n",
    "\n",
    "An introduction to using the MAST API to query MAST data and catalogs programmatically."
   ]
  },
  {
   "cell_type": "markdown",
   "metadata": {},
   "source": [
    "To start with, here are all the includes we need:"
   ]
  },
  {
   "cell_type": "code",
   "execution_count": 1,
   "metadata": {},
   "outputs": [],
   "source": [
    "import sys\n",
    "import os\n",
    "import time\n",
    "import re\n",
    "import json\n",
    "\n",
    "import requests\n",
    "from urllib.parse import quote as urlencode\n",
    "\n",
    "from astropy.table import Table\n",
    "import numpy as np\n",
    "\n",
    "import pprint\n",
    "pp = pprint.PrettyPrinter(indent=4)"
   ]
  },
  {
   "cell_type": "markdown",
   "metadata": {},
   "source": [
    "## Basic MAST Query\n",
    "\n",
    "Here we will perform a basic MAST query on M101, equivalent to choosing \"All MAST Observations\" and searching for M101 in the Portal like so:\n",
    "\n",
    "<img src=\"https://mast.stsci.edu/api/v0/portalSearchM101.png\">\n",
    "\n",
    "We will then select some observations, view their data products, and download some data."
   ]
  },
  {
   "cell_type": "markdown",
   "metadata": {},
   "source": [
    "### Step 0: MAST Request\n",
    "All MAST requests (except direct download requests) have the same form:\n",
    "- HTTPS connect to MAST server\n",
    "- POST MAST request to /api/v0/invoke\n",
    "- MAST request is of the form \"request={request json object}\n",
    "\n",
    "Because every request looks the same, we will write a function to handle the HTTPS interaction, taking in a MAST request and returning the server response."
   ]
  },
  {
   "cell_type": "code",
   "execution_count": 14,
   "metadata": {},
   "outputs": [],
   "source": [
    "def mast_query(request):\n",
    "    \"\"\"Perform a MAST query.\n",
    "    \n",
    "        Parameters\n",
    "        ----------\n",
    "        request (dictionary): The MAST request json object\n",
    "        \n",
    "        Returns head,content where head is the response HTTP headers, and content is the returned data\"\"\"\n",
    "    \n",
    "    # Base API url\n",
    "    request_url='https://mast.stsci.edu/api/v0/invoke'    \n",
    "    \n",
    "    # Grab Python Version \n",
    "    version = \".\".join(map(str, sys.version_info[:3]))\n",
    "\n",
    "    # Create Http Header Variables\n",
    "    headers = {\"Content-type\": \"application/x-www-form-urlencoded\",\n",
    "               \"Accept\": \"text/plain\",\n",
    "               \"User-agent\":\"python-requests/\"+version}\n",
    "\n",
    "    # Encoding the request as a json string\n",
    "    req_string = json.dumps(request)\n",
    "    req_string = urlencode(req_string)\n",
    "    \n",
    "    # Perform the HTTP request\n",
    "    resp = requests.post(request_url, data=\"request=\"+req_string, headers=headers)\n",
    "    \n",
    "    # Pull out the headers and response content\n",
    "    head = resp.headers\n",
    "    content = resp.content.decode('utf-8')\n",
    "\n",
    "    return head, content"
   ]
  },
  {
   "cell_type": "markdown",
   "metadata": {},
   "source": [
    "### Step 1: Name Resolver\n",
    "The first step of this query is to \"resolve\" M101 into a position on the sky.  To do this we use the **Mast.Name.Lookup** service.\n",
    "\n",
    "As with all of our services, we recommend using the json format, as the json output is most easily parsed."
   ]
  },
  {
   "cell_type": "code",
   "execution_count": 18,
   "metadata": {},
   "outputs": [
    {
     "name": "stdout",
     "output_type": "stream",
     "text": [
      "{   'resolvedCoordinate': [   {   'cacheDate': 'Jan 15, 2021, 10:17:45 AM',\n",
      "                                  'cached': True,\n",
      "                                  'canonicalName': 'MESSIER 101',\n",
      "                                  'decl': 54.34895,\n",
      "                                  'objectType': 'G',\n",
      "                                  'ra': 210.80227,\n",
      "                                  'radius': 0.24000000000000002,\n",
      "                                  'resolver': 'NED',\n",
      "                                  'resolverTime': 241,\n",
      "                                  'searchRadius': -1.0,\n",
      "                                  'searchString': 'm101'}],\n",
      "    'status': ''}\n"
     ]
    }
   ],
   "source": [
    "object_of_interest = 'M101'\n",
    "\n",
    "resolver_request = {'service':'Mast.Name.Lookup',\n",
    "                     'params':{'input':object_of_interest,\n",
    "                               'format':'json'},\n",
    "                     }\n",
    "\n",
    "headers, resolved_object_string = mast_query(resolver_request)\n",
    "\n",
    "resolved_object = json.loads(resolved_object_string)\n",
    "\n",
    "pp.pprint(resolved_object)"
   ]
  },
  {
   "cell_type": "markdown",
   "metadata": {},
   "source": [
    "The resolver returns a variety of informaton about the resolved object, however for our purposes all we need are the RA and Dec:"
   ]
  },
  {
   "cell_type": "code",
   "execution_count": 20,
   "metadata": {},
   "outputs": [],
   "source": [
    "obj_ra = resolved_object['resolvedCoordinate'][0]['ra']\n",
    "obj_dec = resolved_object['resolvedCoordinate'][0]['decl']"
   ]
  },
  {
   "cell_type": "markdown",
   "metadata": {},
   "source": [
    "### Step 2: MAST Query\n",
    "\n",
    "Now that we have the RA and Dec we can perform the MAST query on M101.  To do this we will use the **Mast.Caom.Cone** service. The output of this query is the information that gets loaded into the grid when running a Portal query, like so:\n",
    "\n",
    "<img src=\"https://mast.stsci.edu/api/v0/m101Gridd.png\" style=\"width:600px\">\n",
    "\n",
    "Because M101 has been observed many times, there will be several thousand results. We can use the MashupRequest 'page' and 'pagesize' properties to control how we view these results, either by choosing a pagesize large enough to accommodate all of the results, or choosing a smaller pagesize and paging through them using the page property.  The json response object will include information about paging, so check that to see if you need to collect additional results.\n",
    "\n",
    "Note: page and pagesize must *both* be specified (or neither), if only one is specified, the other will be ignored."
   ]
  },
  {
   "cell_type": "code",
   "execution_count": 21,
   "metadata": {},
   "outputs": [
    {
     "name": "stdout",
     "output_type": "stream",
     "text": [
      "dict_keys(['status', 'msg', 'data', 'fields', 'paging'])\n",
      "Query status: COMPLETE\n"
     ]
    }
   ],
   "source": [
    "mast_request = {'service':'Mast.Caom.Cone',\n",
    "                'params':{'ra':obj_ra,\n",
    "                          'dec':obj_dec,\n",
    "                          'radius':0.2},\n",
    "                'format':'json',\n",
    "                'pagesize':2000,\n",
    "                'page':1,\n",
    "                'removenullcolumns':True,\n",
    "                'removecache':True}\n",
    "\n",
    "headers, mast_data_str = mast_query(mast_request)\n",
    "\n",
    "mast_data = json.loads(mast_data_str)\n",
    "\n",
    "print(mast_data.keys())\n",
    "print(\"Query status:\",mast_data['status'])"
   ]
  },
  {
   "cell_type": "markdown",
   "metadata": {},
   "source": [
    "In the json response object, the \"fields\" dictionary holds the column names and types.  The column names are not the formatted column headings that appear in the Portal grid (these are not guarenteed to be unique), but instead are the column names from the database. These names can be accessed in the Portal by hovering over a column name, or in the details pane of \"Show Details.\" Details about returned columns for various queries can be found in the \"Related Pages\" section of the API documentation.\n",
    "\n",
    "<img src=\"https://mast.stsci.edu/api/v0/detCol.png\" style=\"width:600px\">"
   ]
  },
  {
   "cell_type": "code",
   "execution_count": 22,
   "metadata": {},
   "outputs": [
    {
     "name": "stdout",
     "output_type": "stream",
     "text": [
      "[   {'name': 'intentType', 'type': 'string'},\n",
      "    {'name': 'obs_collection', 'type': 'string'},\n",
      "    {'name': 'provenance_name', 'type': 'string'},\n",
      "    {'name': 'instrument_name', 'type': 'string'},\n",
      "    {'name': 'project', 'type': 'string'}]\n"
     ]
    }
   ],
   "source": [
    "pp.pprint(mast_data['fields'][:5])"
   ]
  },
  {
   "cell_type": "markdown",
   "metadata": {},
   "source": [
    "The data is found (predictably) under the \"data\" keyword. The data is a list of dictionaries, where each row corresponds to one observation collection (just the in the Portal grid):"
   ]
  },
  {
   "cell_type": "code",
   "execution_count": 23,
   "metadata": {},
   "outputs": [
    {
     "name": "stdout",
     "output_type": "stream",
     "text": [
      "{   '_selected_': None,\n",
      "    'calib_level': 3,\n",
      "    'dataRights': 'PUBLIC',\n",
      "    'dataURL': None,\n",
      "    'dataproduct_type': 'image',\n",
      "    'distance': 0,\n",
      "    'em_max': 1000,\n",
      "    'em_min': 600,\n",
      "    'filters': 'TESS',\n",
      "    'instrument_name': 'Photometer',\n",
      "    'intentType': 'science',\n",
      "    'jpegURL': None,\n",
      "    'mtFlag': False,\n",
      "    'obs_collection': 'TESS',\n",
      "    'obs_id': 'tess-s0015-4-1',\n",
      "    'obs_title': None,\n",
      "    'obsid': 17001016095,\n",
      "    'project': 'TESS',\n",
      "    'proposal_id': 'N/A',\n",
      "    'proposal_pi': 'Ricker, George',\n",
      "    'proposal_type': None,\n",
      "    'provenance_name': 'SPOC',\n",
      "    's_dec': 59.23577326662502,\n",
      "    's_ra': 213.663757013405,\n",
      "    's_region': 'POLYGON 227.56190400 55.89237000 210.04086200 50.98859500 '\n",
      "                '197.01254300 60.84640200 220.28641600 67.20814100 '\n",
      "                '227.56190400 55.89237000 ',\n",
      "    'sequence_number': 15,\n",
      "    'srcDen': None,\n",
      "    't_exptime': 1425.599379,\n",
      "    't_max': 58736.89295962,\n",
      "    't_min': 58710.87239573,\n",
      "    't_obs_release': 58756.33333,\n",
      "    'target_classification': None,\n",
      "    'target_name': 'TESS FFI',\n",
      "    'wavelength_region': 'Optical'}\n"
     ]
    }
   ],
   "source": [
    "pp.pprint(mast_data['data'][0])"
   ]
  },
  {
   "cell_type": "markdown",
   "metadata": {},
   "source": [
    "The data table can be used as is, but it can also be translated into different formats depending on user preference.  Here we will demonstrate how to put the results of a MAST query into an Astropy Table."
   ]
  },
  {
   "cell_type": "code",
   "execution_count": 24,
   "metadata": {},
   "outputs": [
    {
     "name": "stdout",
     "output_type": "stream",
     "text": [
      "intentType obs_collection provenance_name ...      distance      _selected_\n",
      "---------- -------------- --------------- ... ------------------ ----------\n",
      "   science           TESS            SPOC ...                0.0      False\n",
      "   science           TESS            SPOC ...                0.0      False\n",
      "   science           TESS            SPOC ...                0.0      False\n",
      "   science           TESS            SPOC ...                0.0      False\n",
      "   science           TESS            SPOC ...  407.3642445717816      False\n",
      "   science           TESS            SPOC ...  407.3642445717816      False\n",
      "   science           TESS            SPOC ...  407.3642445717816      False\n",
      "   science          SWIFT            None ...                0.0      False\n",
      "   science          SWIFT            None ...                0.0      False\n",
      "   science          SWIFT            None ...                0.0      False\n",
      "       ...            ...             ... ...                ...        ...\n",
      "   science            HST        CALWFPC2 ...  24.39043796264874      False\n",
      "   science            HST        CALWFPC2 ... 24.393940669256285      False\n",
      "   science            HST        CALWFPC2 ... 24.393940669256285      False\n",
      "   science            HST        CALWFPC2 ... 24.393940669256285      False\n",
      "   science            HST        CALWFPC2 ... 24.393940669256285      False\n",
      "   science            HST        CALWFPC2 ... 24.393940669256285      False\n",
      "   science            HST        CALWFPC2 ... 24.393940669256285      False\n",
      "   science            HST        CALWFPC2 ... 24.393940669256285      False\n",
      "   science            HST        CALWFPC2 ... 24.393940669256285      False\n",
      "   science            HST        CALWFPC2 ... 24.393940669256285      False\n",
      "   science            HST        CALWFPC2 ... 24.393940669256285      False\n",
      "Length = 2000 rows\n"
     ]
    }
   ],
   "source": [
    "mast_data_table = Table()\n",
    "\n",
    "for col,atype in [(x['name'],x['type']) for x in mast_data['fields']]:\n",
    "    if atype==\"string\":\n",
    "        atype=\"str\"\n",
    "    if atype==\"boolean\":\n",
    "        atype=\"bool\"\n",
    "    mast_data_table[col] = np.array([x.get(col,None) for x in mast_data['data']],dtype=atype)\n",
    "    \n",
    "print(mast_data_table)"
   ]
  },
  {
   "cell_type": "markdown",
   "metadata": {},
   "source": [
    "At this point we are ready to do analysis on these observations.  However, if we want to access the actual data products, there are a few more steps."
   ]
  },
  {
   "cell_type": "markdown",
   "metadata": {},
   "source": [
    "### Step 2 tangent: filtered query\n",
    "\n",
    "An alternative to the cone search query is the filtered query.  This is analogous to Advanced Search in the Portal and results in the same list of observations as the cone search, but filtered on other criteria. The services we'll use to do this are **Mast.Caom.Filtered** and **Mast.Caom.Filtered.Position**. "
   ]
  },
  {
   "cell_type": "markdown",
   "metadata": {},
   "source": [
    "Filtered queries can often end up being quite large, so we will first do a query that just returns the number of results and decide if it is managable before we do the full query. We do this by supplying the parameter `\"columns\":\"COUNT_BIG(*)\"`."
   ]
  },
  {
   "cell_type": "code",
   "execution_count": 25,
   "metadata": {},
   "outputs": [
    {
     "name": "stdout",
     "output_type": "stream",
     "text": [
      "{   'data': [{'Column1': 1068}],\n",
      "    'fields': [{'name': 'Column1', 'type': 'string'}],\n",
      "    'msg': '',\n",
      "    'paging': {   'page': 1,\n",
      "                  'pageSize': 1,\n",
      "                  'pagesFiltered': 1,\n",
      "                  'rows': 1,\n",
      "                  'rowsFiltered': 1,\n",
      "                  'rowsTotal': 1},\n",
      "    'status': 'COMPLETE'}\n"
     ]
    }
   ],
   "source": [
    "mashup_request = {\"service\":\"Mast.Caom.Filtered\",\n",
    "                  \"format\":\"json\",\n",
    "                  \"params\":{\n",
    "                      \"columns\":\"COUNT_BIG(*)\",\n",
    "                      \"filters\":[\n",
    "                          {\"paramName\":\"filters\",\n",
    "                           \"values\":[\"NUV\",\"FUV\"],\n",
    "                           \"separator\":\";\"\n",
    "                          },\n",
    "                          {\"paramName\":\"t_max\",\n",
    "                           \"values\":[{\"min\":52264.4586,\"max\":54452.8914}], #MJD\n",
    "                          },\n",
    "                          {\"paramName\":\"obsid\",\n",
    "                           \"values\":[],\n",
    "                           \"freeText\":\"%200%\"}\n",
    "                      ]}}\n",
    "    \n",
    "headers, out_string = mast_query(mashup_request)\n",
    "count = json.loads(out_string)\n",
    "\n",
    "pp.pprint(count)"
   ]
  },
  {
   "cell_type": "markdown",
   "metadata": {},
   "source": [
    "1,068 isn't too many observations so we can go ahead and request them. The only thing we need to do differently is change `\"columns\":\"COUNT_BIG(*)\"` to `\"columns\":\"*\"`."
   ]
  },
  {
   "cell_type": "code",
   "execution_count": 26,
   "metadata": {},
   "outputs": [
    {
     "name": "stdout",
     "output_type": "stream",
     "text": [
      "dict_keys(['status', 'msg', 'data', 'fields', 'paging'])\n",
      "Query status: COMPLETE\n"
     ]
    }
   ],
   "source": [
    "mashup_request = {\"service\":\"Mast.Caom.Filtered\",\n",
    "                 \"format\":\"json\",\n",
    "                 \"params\":{\n",
    "                     \"columns\":\"*\",\n",
    "                     \"filters\":[\n",
    "                         {\"paramName\":\"filters\",\n",
    "                          \"values\":[\"NUV\",\"FUV\"],\n",
    "                          \"separator\":\";\"\n",
    "                         },\n",
    "                         {\"paramName\":\"t_max\",\n",
    "                          \"values\":[{\"min\":52264.4586,\"max\":54452.8914}], #MJD\n",
    "                         },\n",
    "                         {\"paramName\":\"obsid\",\n",
    "                          \"values\":[],\n",
    "                          \"freeText\":\"%200%\"}\n",
    "                     ]}}\n",
    "    \n",
    "headers, out_string = mast_query(mashup_request)\n",
    "filtered_data = json.loads(out_string)\n",
    "\n",
    "print(filtered_data.keys())\n",
    "print(\"Query status:\", filtered_data['status'])"
   ]
  },
  {
   "cell_type": "code",
   "execution_count": 27,
   "metadata": {},
   "outputs": [
    {
     "name": "stdout",
     "output_type": "stream",
     "text": [
      "{   'calib_level': 2,\n",
      "    'dataRights': 'PUBLIC',\n",
      "    'dataURL': 'http://galex.stsci.edu/data/GR6/pipe/02-vsn/50152-AIS_152/d/01-main/0001-img/07-try/AIS_152_sg05-nd-int.fits.gz',\n",
      "    'dataproduct_type': 'image',\n",
      "    'em_max': 300700000000,\n",
      "    'em_min': 169300000000,\n",
      "    'filters': 'NUV',\n",
      "    'instrument_name': 'GALEX',\n",
      "    'intentType': 'science',\n",
      "    'jpegURL': 'http://galex.stsci.edu/data/GR6/pipe/02-vsn/50152-AIS_152/d/01-main/0001-img/07-try/qa/AIS_152_sg05-xd-int_2color.jpg',\n",
      "    'mtFlag': None,\n",
      "    'objID': 1000019991,\n",
      "    'obs_collection': 'GALEX',\n",
      "    'obs_id': '6376263785413345280',\n",
      "    'obs_title': None,\n",
      "    'obsid': 1000020010,\n",
      "    'project': 'AIS',\n",
      "    'proposal_id': None,\n",
      "    'proposal_pi': None,\n",
      "    'proposal_type': 'AIS',\n",
      "    'provenance_name': 'AIS',\n",
      "    's_dec': 8.29313154479086,\n",
      "    's_ra': 339.243468698603,\n",
      "    's_region': 'CIRCLE ICRS 339.24346870   8.29313154 0.625',\n",
      "    'sequence_number': -999,\n",
      "    'srcDen': 5885,\n",
      "    't_exptime': 166,\n",
      "    't_max': 53228.78150462963,\n",
      "    't_min': 53228.71202546296,\n",
      "    't_obs_release': 55426.59541,\n",
      "    'target_classification': None,\n",
      "    'target_name': 'AIS_152_1_5',\n",
      "    'wavelength_region': 'UV'}\n"
     ]
    }
   ],
   "source": [
    "pp.pprint(filtered_data['data'][0])"
   ]
  },
  {
   "cell_type": "markdown",
   "metadata": {},
   "source": [
    "To add position to a filtered query we use the service **Mast.Caom.Filtered.Position** and  add a new parameter `\"position\":\"positionString\"` where positionString has the form `\"ra dec radius\"` in degrees."
   ]
  },
  {
   "cell_type": "code",
   "execution_count": 28,
   "metadata": {},
   "outputs": [
    {
     "name": "stdout",
     "output_type": "stream",
     "text": [
      "{   'data': [{'Column1': 797}],\n",
      "    'fields': [{'name': 'Column1', 'type': 'string'}],\n",
      "    'msg': '',\n",
      "    'paging': {   'page': 1,\n",
      "                  'pageSize': 1,\n",
      "                  'pagesFiltered': 1,\n",
      "                  'rows': 1,\n",
      "                  'rowsFiltered': 1,\n",
      "                  'rowsTotal': 1},\n",
      "    'status': 'COMPLETE'}\n"
     ]
    }
   ],
   "source": [
    "mashup_request = {\n",
    "        \"service\":\"Mast.Caom.Filtered.Position\",\n",
    "        \"format\":\"json\",\n",
    "        \"params\":{\n",
    "            \"columns\":\"COUNT_BIG(*)\",\n",
    "            \"filters\":[\n",
    "                {\"paramName\":\"dataproduct_type\",\n",
    "                 \"values\":[\"cube\"]\n",
    "                }],\n",
    "            \"position\":\"210.8023, 54.349, 0.24\"\n",
    "        }}\n",
    "\n",
    "headers, out_string = mast_query(mashup_request)\n",
    "count = json.loads(out_string)\n",
    "\n",
    "pp.pprint(count)"
   ]
  },
  {
   "cell_type": "markdown",
   "metadata": {},
   "source": [
    "### Step 3: Getting Data Products\n",
    "Before we can download observational data, we need to figure out what data products are associated with the observation(s) we are interested in.  To do that we will use the **Mast.Caom.Products** service. This service takes the \"obsid\" (\"Product Group ID\" is the formated label visible in the Portal) and returns information about the associated data products.  This query can be thought of as somewhat analogous to adding an observation to the basket in the Portal."
   ]
  },
  {
   "cell_type": "code",
   "execution_count": 30,
   "metadata": {},
   "outputs": [
    {
     "name": "stdout",
     "output_type": "stream",
     "text": [
      "Observation: ['image', 'HST', 'WFC3/UVIS']\n"
     ]
    }
   ],
   "source": [
    "# Picking the first Hubble Space Telescope observation\n",
    "interesting_observation = mast_data_table[mast_data_table[\"obs_collection\"] == \"HST\"][0]\n",
    "print(\"Observation:\",\n",
    "      [interesting_observation[x] for x in ['dataproduct_type', 'obs_collection', 'instrument_name']])"
   ]
  },
  {
   "cell_type": "code",
   "execution_count": 31,
   "metadata": {},
   "outputs": [
    {
     "name": "stdout",
     "output_type": "stream",
     "text": [
      "Number of data products: 26\n",
      "Product information column names:\n",
      "[   {'name': 'obsID', 'type': 'string'},\n",
      "    {'name': 'obs_collection', 'type': 'string'},\n",
      "    {'name': 'dataproduct_type', 'type': 'string'},\n",
      "    {'name': 'obs_id', 'type': 'string'},\n",
      "    {'name': 'description', 'type': 'string'},\n",
      "    {'name': 'type', 'type': 'string'},\n",
      "    {'name': 'dataURI', 'type': 'string'},\n",
      "    {'name': 'productType', 'type': 'string'},\n",
      "    {'name': 'productGroupDescription', 'type': 'string'},\n",
      "    {'name': 'productSubGroupDescription', 'type': 'string'},\n",
      "    {'name': 'productDocumentationURL', 'type': 'string'},\n",
      "    {'name': 'project', 'type': 'string'},\n",
      "    {'name': 'prvversion', 'type': 'string'},\n",
      "    {'name': 'proposal_id', 'type': 'string'},\n",
      "    {'name': 'productFilename', 'type': 'string'},\n",
      "    {'name': 'size', 'type': 'int'},\n",
      "    {'name': 'parent_obsid', 'type': 'string'},\n",
      "    {'name': 'dataRights', 'type': 'string'},\n",
      "    {'name': 'calib_level', 'type': 'int'},\n",
      "    {'name': '_selected_', 'type': 'boolean'}]\n"
     ]
    }
   ],
   "source": [
    "obsid = interesting_observation['obsid']\n",
    "\n",
    "product_request = {'service':'Mast.Caom.Products',\n",
    "                  'params':{'obsid':obsid},\n",
    "                  'format':'json',\n",
    "                  'pagesize':100,\n",
    "                  'page':1}   \n",
    "\n",
    "headers, obs_products_string = mast_query(product_request)\n",
    "\n",
    "obs_products = json.loads(obs_products_string)\n",
    "\n",
    "print(\"Number of data products:\", len(obs_products[\"data\"]))\n",
    "print(\"Product information column names:\")\n",
    "pp.pprint(obs_products['fields'])"
   ]
  },
  {
   "cell_type": "markdown",
   "metadata": {},
   "source": [
    "We might not want to download all of the available products, let's take a closer look and see which ones are important."
   ]
  },
  {
   "cell_type": "code",
   "execution_count": 32,
   "metadata": {},
   "outputs": [
    {
     "name": "stdout",
     "output_type": "stream",
     "text": [
      "[   'AUXILIARY',\n",
      "    'PREVIEW',\n",
      "    'SCIENCE',\n",
      "    'AUXILIARY',\n",
      "    'AUXILIARY',\n",
      "    'PREVIEW',\n",
      "    'SCIENCE',\n",
      "    'SCIENCE',\n",
      "    'AUXILIARY',\n",
      "    'AUXILIARY',\n",
      "    'PREVIEW',\n",
      "    'SCIENCE',\n",
      "    'SCIENCE',\n",
      "    'AUXILIARY',\n",
      "    'AUXILIARY',\n",
      "    'PREVIEW',\n",
      "    'SCIENCE',\n",
      "    'SCIENCE',\n",
      "    'AUXILIARY',\n",
      "    'AUXILIARY',\n",
      "    'PREVIEW',\n",
      "    'SCIENCE',\n",
      "    'SCIENCE',\n",
      "    'AUXILIARY',\n",
      "    'PREVIEW',\n",
      "    'SCIENCE']\n"
     ]
    }
   ],
   "source": [
    "pp.pprint([x.get('productType',\"\") for x in obs_products[\"data\"]])"
   ]
  },
  {
   "cell_type": "markdown",
   "metadata": {},
   "source": [
    "Let's download all of the science products. \n",
    "We'll start by making an Astropy Table containing just the science product information.  Then we'll download the datafiles using two different methods."
   ]
  },
  {
   "cell_type": "code",
   "execution_count": 33,
   "metadata": {},
   "outputs": [
    {
     "name": "stdout",
     "output_type": "stream",
     "text": [
      "Number of science products: 10\n",
      "  obsID    obs_collection dataproduct_type ... dataRights calib_level _selected_\n",
      "---------- -------------- ---------------- ... ---------- ----------- ----------\n",
      "2008401691            HST            image ...     PUBLIC         2.0      False\n",
      "2008401652            HST            image ...     PUBLIC         2.0      False\n",
      "2008401652            HST            image ...     PUBLIC         2.0      False\n",
      "2008401622            HST            image ...     PUBLIC         2.0      False\n",
      "2008401622            HST            image ...     PUBLIC         2.0      False\n",
      "2008401594            HST            image ...     PUBLIC         2.0      False\n",
      "2008401594            HST            image ...     PUBLIC         2.0      False\n",
      "2008401681            HST            image ...     PUBLIC         2.0      False\n",
      "2008401681            HST            image ...     PUBLIC         2.0      False\n",
      "2008401713            HST            image ...     PUBLIC         2.0      False\n"
     ]
    }
   ],
   "source": [
    "sci_prod_arr = [x for x in obs_products['data'] if x.get(\"productType\", None) == 'SCIENCE']\n",
    "science_products = Table()\n",
    "\n",
    "for col, atype in [(x['name'], x['type']) for x in obs_products['fields']]:\n",
    "    if atype==\"string\":\n",
    "        atype=\"str\"\n",
    "    if atype==\"boolean\":\n",
    "        atype=\"bool\"\n",
    "    if atype == \"int\":\n",
    "        atype = \"float\" # array may contain nan values, and they do not exist in numpy integer arrays\n",
    "    science_products[col] = np.array([x.get(col,None) for x in sci_prod_arr],dtype=atype)\n",
    "\n",
    "print(\"Number of science products:\",len(science_products))\n",
    "print(science_products)"
   ]
  },
  {
   "cell_type": "markdown",
   "metadata": {},
   "source": [
    "### Step 4a: Downloading files individually\n",
    "We can directly download the data files one at a time, using the MAST download service, file endpoint. \n",
    "\n",
    "To download data files directly we really only need the 'dataURI' field, however we will also use the obs_collection, obs_id, and productFilename fields to create a unique download path for each file.\n",
    "\n",
    "We will loop through the files and download them, saving each one as mastFiles/obs_collection/obs_id/productFilename. While you can use any naming convention (or none) this one is recommended because it guarantees a unique path for each file."
   ]
  },
  {
   "cell_type": "code",
   "execution_count": 35,
   "metadata": {},
   "outputs": [
    {
     "name": "stdout",
     "output_type": "stream",
     "text": [
      "COMPLETE:  mastFiles/HST/hst_11635_06_wfc3_uvis_f469n_ib3p06/hst_11635_06_wfc3_uvis_f469n_ib3p06_drc.fits\n",
      "COMPLETE:  mastFiles/HST/hst_11635_06_wfc3_uvis_f469n_ib3p06wj/hst_11635_06_wfc3_uvis_f469n_ib3p06wj_drc.fits\n"
     ]
    }
   ],
   "source": [
    "download_url = 'https://mast.stsci.edu/api/v0.1/Download/file?'\n",
    "\n",
    "for row in science_products[:2]:     \n",
    "\n",
    "    # make file path\n",
    "    out_path = os.path.join(\"mastFiles\", row['obs_collection'], row['obs_id'])\n",
    "    if not os.path.exists(out_path):\n",
    "        os.makedirs(out_path)\n",
    "    out_path = os.path.join(out_path, os.path.basename(row['productFilename']))\n",
    "        \n",
    "    # Download the data\n",
    "    payload = {\"uri\":row['dataURI']}\n",
    "    resp = requests.get(download_url, params=payload)\n",
    "    \n",
    "    # save to file\n",
    "    with open(out_path,'wb') as FLE:\n",
    "        FLE.write(resp.content)\n",
    "        \n",
    "    # check for file \n",
    "    if not os.path.isfile(out_path):\n",
    "        print(\"ERROR: \" + out_path + \" failed to download.\")\n",
    "    else:\n",
    "        print(\"COMPLETE: \", out_path)"
   ]
  },
  {
   "cell_type": "markdown",
   "metadata": {},
   "source": [
    "### Step 4a: Downloading products in a \"bundle\"\n",
    "This is how downloading is done through the Portal and will result in either a compressed file containing all the data products, or a curl script that can be run to download the data products at a later time. This can be a more complicated way to access data products, however it will produce exactly the same output as downloading through the Discovery Portal and the resulting file paths are guaranteed to be unique.\n",
    "\n",
    "We will use the MAST bundle service to download all of our desired data products as a gzipped tarball."
   ]
  },
  {
   "cell_type": "code",
   "execution_count": 45,
   "metadata": {},
   "outputs": [
    {
     "name": "stdout",
     "output_type": "stream",
     "text": [
      "COMPLETE:  mastDownload.tar.gz\n"
     ]
    }
   ],
   "source": [
    "url_list = [(\"uri\", url) for url in science_products['dataURI'][:2]]\n",
    "extension = \".tar.gz\"\n",
    "\n",
    "download_url = 'https://mast.stsci.edu/api/v0.1/Download/bundle'\n",
    "resp = requests.post(download_url + extension, data=url_list)\n",
    "\n",
    "out_file = \"mastDownload\" + extension\n",
    "with open(out_file, 'wb') as FLE:\n",
    "    FLE.write(resp.content)\n",
    "    \n",
    "# check for file \n",
    "if not os.path.isfile(out_file):\n",
    "    print(\"ERROR: \" + out_file + \" failed to download.\")\n",
    "else:\n",
    "    print(\"COMPLETE: \", out_file)"
   ]
  },
  {
   "cell_type": "code",
   "execution_count": null,
   "metadata": {},
   "outputs": [],
   "source": []
  }
 ],
 "metadata": {
  "kernelspec": {
   "display_name": "Python 3",
   "language": "python",
   "name": "python3"
  },
  "language_info": {
   "codemirror_mode": {
    "name": "ipython",
    "version": 3
   },
   "file_extension": ".py",
   "mimetype": "text/x-python",
   "name": "python",
   "nbconvert_exporter": "python",
   "pygments_lexer": "ipython3",
   "version": "3.7.3"
  }
 },
 "nbformat": 4,
 "nbformat_minor": 1
}
