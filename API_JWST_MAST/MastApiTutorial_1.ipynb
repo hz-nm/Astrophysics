{
  "cells": [
    {
      "cell_type": "markdown",
      "metadata": {
        "id": "PRmKoQyYh19T"
      },
      "source": [
        "# MAST API Tutorial\n",
        "\n",
        "An introduction to using the MAST API to query MAST data and catalogs programmatically."
      ]
    },
    {
      "cell_type": "markdown",
      "metadata": {
        "id": "QNvvdr2Qh19X"
      },
      "source": [
        "To start with, here are all the includes we need:"
      ]
    },
    {
      "cell_type": "code",
      "execution_count": 1,
      "metadata": {
        "id": "7AwgbtpNh19Y"
      },
      "outputs": [],
      "source": [
        "import sys\n",
        "import os\n",
        "import time\n",
        "import re\n",
        "import json\n",
        "\n",
        "import requests\n",
        "from urllib.parse import quote as urlencode\n",
        "\n",
        "from astropy.table import Table\n",
        "import numpy as np\n",
        "\n",
        "import pprint\n",
        "pp = pprint.PrettyPrinter(indent=4)"
      ]
    },
    {
      "cell_type": "markdown",
      "metadata": {
        "id": "ZBGsrBLAh19Z"
      },
      "source": [
        "## Basic MAST Query\n",
        "\n",
        "Here we will perform a basic MAST query on M101, equivalent to choosing \"All MAST Observations\" and searching for M101 in the Portal like so:\n",
        "\n",
        "<img src=\"https://mast.stsci.edu/api/v0/portalSearchM101.png\">\n",
        "\n",
        "We will then select some observations, view their data products, and download some data."
      ]
    },
    {
      "cell_type": "markdown",
      "metadata": {
        "id": "ueKCMIz7h19Z"
      },
      "source": [
        "### Step 0: MAST Request\n",
        "All MAST requests (except direct download requests) have the same form:\n",
        "- HTTPS connect to MAST server\n",
        "- POST MAST request to /api/v0/invoke\n",
        "- MAST request is of the form \"request={request json object}\n",
        "\n",
        "Because every request looks the same, we will write a function to handle the HTTPS interaction, taking in a MAST request and returning the server response."
      ]
    },
    {
      "cell_type": "code",
      "execution_count": 24,
      "metadata": {
        "id": "R3YPrqQDh19a"
      },
      "outputs": [],
      "source": [
        "def mast_query(request):\n",
        "    \"\"\"Perform a MAST query.\n",
        "    \n",
        "        Parameters\n",
        "        ----------\n",
        "        request (dictionary): The MAST request json object\n",
        "        \n",
        "        Returns head,content where head is the response HTTP headers, and content is the returned data\"\"\"\n",
        "    \n",
        "    # Base API url\n",
        "    request_url='https://mast.stsci.edu/api/v0/invoke'    \n",
        "    \n",
        "    # Grab Python Version \n",
        "    version = \".\".join(map(str, sys.version_info[:3]))\n",
        "\n",
        "    # Create Http Header Variables\n",
        "    headers = {\"Content-type\": \"application/x-www-form-urlencoded\",\n",
        "               \"Accept\": \"text/plain\",\n",
        "               \"User-agent\":\"python-requests/\"+version}\n",
        "\n",
        "    # Encoding the request as a json string\n",
        "    req_string = json.dumps(request)\n",
        "    req_string = urlencode(req_string)\n",
        "    \n",
        "    # Perform the HTTP request\n",
        "    resp = requests.post(request_url, data=\"request=\"+req_string, headers=headers)\n",
        "    \n",
        "    # Pull out the headers and response content\n",
        "    head = resp.headers\n",
        "    content = resp.content.decode('utf-8')\n",
        "\n",
        "    return head, content"
      ]
    },
    {
      "cell_type": "markdown",
      "metadata": {
        "id": "xpLp7kIgh19a"
      },
      "source": [
        "### Step 1: Name Resolver\n",
        "The first step of this query is to \"resolve\" M101 into a position on the sky.  To do this we use the **Mast.Name.Lookup** service.\n",
        "\n",
        "As with all of our services, we recommend using the json format, as the json output is most easily parsed."
      ]
    },
    {
      "cell_type": "code",
      "execution_count": 25,
      "metadata": {
        "colab": {
          "base_uri": "https://localhost:8080/"
        },
        "id": "Zo-HA0VNh19b",
        "outputId": "590ad64e-995e-4d78-a62d-70b87c0d08f2"
      },
      "outputs": [
        {
          "output_type": "stream",
          "name": "stdout",
          "text": [
            "{   'resolvedCoordinate': [   {   'cacheDate': 'Apr 15, 2022, 2:05:34 PM',\n",
            "                                  'cached': True,\n",
            "                                  'canonicalName': 'NGC 3132',\n",
            "                                  'decl': -40.43658,\n",
            "                                  'objectType': 'PN',\n",
            "                                  'ra': 151.75721,\n",
            "                                  'resolver': 'NED',\n",
            "                                  'resolverTime': 130,\n",
            "                                  'searchRadius': -1.0,\n",
            "                                  'searchString': 'ngc 3132'}],\n",
            "    'status': ''}\n"
          ]
        }
      ],
      "source": [
        "object_of_interest = 'NGC 3132'\n",
        "\n",
        "resolver_request = {'service':'Mast.Name.Lookup',\n",
        "                     'params':{'input':object_of_interest,\n",
        "                               'format':'json'},\n",
        "                     }\n",
        "\n",
        "headers, resolved_object_string = mast_query(resolver_request)\n",
        "\n",
        "resolved_object = json.loads(resolved_object_string)\n",
        "\n",
        "pp.pprint(resolved_object)"
      ]
    },
    {
      "cell_type": "markdown",
      "metadata": {
        "id": "2L_U1o-Bh19c"
      },
      "source": [
        "The resolver returns a variety of informaton about the resolved object, however for our purposes all we need are the RA and Dec:"
      ]
    },
    {
      "cell_type": "code",
      "execution_count": 26,
      "metadata": {
        "id": "vATAMkYGh19c"
      },
      "outputs": [],
      "source": [
        "obj_ra = resolved_object['resolvedCoordinate'][0]['ra']\n",
        "obj_dec = resolved_object['resolvedCoordinate'][0]['decl']"
      ]
    },
    {
      "cell_type": "markdown",
      "metadata": {
        "id": "MqdOkr-fh19d"
      },
      "source": [
        "### Step 2: MAST Query\n",
        "\n",
        "Now that we have the RA and Dec we can perform the MAST query on M101.  To do this we will use the **Mast.Caom.Cone** service. The output of this query is the information that gets loaded into the grid when running a Portal query, like so:\n",
        "\n",
        "<img src=\"https://mast.stsci.edu/api/v0/m101Gridd.png\" style=\"width:600px\">\n",
        "\n",
        "Because M101 has been observed many times, there will be several thousand results. We can use the MashupRequest 'page' and 'pagesize' properties to control how we view these results, either by choosing a pagesize large enough to accommodate all of the results, or choosing a smaller pagesize and paging through them using the page property.  The json response object will include information about paging, so check that to see if you need to collect additional results.\n",
        "\n",
        "Note: page and pagesize must *both* be specified (or neither), if only one is specified, the other will be ignored."
      ]
    },
    {
      "cell_type": "code",
      "execution_count": 27,
      "metadata": {
        "colab": {
          "base_uri": "https://localhost:8080/"
        },
        "id": "0MF3vKDMh19d",
        "outputId": "757b232c-a8c4-4029-e8e3-13fc4b4145e5"
      },
      "outputs": [
        {
          "output_type": "stream",
          "name": "stdout",
          "text": [
            "dict_keys(['status', 'msg', 'data', 'fields', 'paging'])\n",
            "Query status: COMPLETE\n"
          ]
        }
      ],
      "source": [
        "mast_request = {'service':'Mast.Caom.Cone',\n",
        "                'params':{'ra':obj_ra,\n",
        "                          'dec':obj_dec,\n",
        "                          'radius':0.2},\n",
        "                'format':'json',\n",
        "                'pagesize':2000,\n",
        "                'page':1,\n",
        "                'removenullcolumns':True,\n",
        "                'removecache':True}\n",
        "\n",
        "headers, mast_data_str = mast_query(mast_request)\n",
        "\n",
        "mast_data = json.loads(mast_data_str)\n",
        "\n",
        "print(mast_data.keys())\n",
        "print(\"Query status:\",mast_data['status'])"
      ]
    },
    {
      "cell_type": "markdown",
      "metadata": {
        "id": "hTN88Zebh19d"
      },
      "source": [
        "In the json response object, the \"fields\" dictionary holds the column names and types.  The column names are not the formatted column headings that appear in the Portal grid (these are not guarenteed to be unique), but instead are the column names from the database. These names can be accessed in the Portal by hovering over a column name, or in the details pane of \"Show Details.\" Details about returned columns for various queries can be found in the \"Related Pages\" section of the API documentation.\n",
        "\n",
        "<img src=\"https://mast.stsci.edu/api/v0/detCol.png\" style=\"width:600px\">"
      ]
    },
    {
      "cell_type": "code",
      "execution_count": 28,
      "metadata": {
        "colab": {
          "base_uri": "https://localhost:8080/"
        },
        "id": "lTWU7RRWh19e",
        "outputId": "3319fd86-c4d8-492e-97fd-9307d924deee"
      },
      "outputs": [
        {
          "output_type": "stream",
          "name": "stdout",
          "text": [
            "[   {'name': 'intentType', 'type': 'string'},\n",
            "    {'name': 'obs_collection', 'type': 'string'},\n",
            "    {'name': 'provenance_name', 'type': 'string'},\n",
            "    {'name': 'instrument_name', 'type': 'string'},\n",
            "    {'name': 'project', 'type': 'string'}]\n"
          ]
        }
      ],
      "source": [
        "pp.pprint(mast_data['fields'][:5])"
      ]
    },
    {
      "cell_type": "markdown",
      "metadata": {
        "id": "-cwREyzQh19e"
      },
      "source": [
        "The data is found (predictably) under the \"data\" keyword. The data is a list of dictionaries, where each row corresponds to one observation collection (just the in the Portal grid):"
      ]
    },
    {
      "cell_type": "code",
      "execution_count": 29,
      "metadata": {
        "colab": {
          "base_uri": "https://localhost:8080/"
        },
        "id": "O6u4kpBeh19e",
        "outputId": "61f9e512-6686-4611-92e0-6d3867922522"
      },
      "outputs": [
        {
          "output_type": "stream",
          "name": "stdout",
          "text": [
            "{   '_selected_': None,\n",
            "    'calib_level': 1,\n",
            "    'dataRights': 'PUBLIC',\n",
            "    'dataURL': 'http://archive.stsci.edu/pub/vospectra/wuppe2/ngc3132_410911_2_hw_vo.fits',\n",
            "    'dataproduct_type': 'spectrum',\n",
            "    'distance': 1.2211685896009923,\n",
            "    'em_max': 277400000000.00006,\n",
            "    'em_min': 170400000000,\n",
            "    'filters': None,\n",
            "    'instrument_name': 'ASTRO-2 WUPPE',\n",
            "    'intentType': 'science',\n",
            "    'jpegURL': 'http://archive.stsci.edu/pub/browse/previews/astro/wuppe/gif/ngc3132_410911_2_hwa.gif',\n",
            "    'mtFlag': None,\n",
            "    'obs_collection': 'WUPPE',\n",
            "    'obs_id': 'ngc3132_410911_2',\n",
            "    'obs_title': None,\n",
            "    'obsid': 389320,\n",
            "    'project': None,\n",
            "    'proposal_id': None,\n",
            "    'proposal_pi': None,\n",
            "    'proposal_type': None,\n",
            "    'provenance_name': None,\n",
            "    's_dec': -40.43465143,\n",
            "    's_ra': 151.7577852819,\n",
            "    's_region': 'CIRCLE ICRS 151.7577852819 -40.43465143 0.00166666666667',\n",
            "    'sequence_number': -999,\n",
            "    'srcDen': 5885,\n",
            "    't_exptime': 1792,\n",
            "    't_max': 49791.0512963,\n",
            "    't_min': 49791.03055556,\n",
            "    't_obs_release': None,\n",
            "    'target_classification': None,\n",
            "    'target_name': 'NGC3132',\n",
            "    'wavelength_region': 'UV'}\n"
          ]
        }
      ],
      "source": [
        "pp.pprint(mast_data['data'][0])"
      ]
    },
    {
      "cell_type": "markdown",
      "metadata": {
        "id": "V3Ar3x9kh19e"
      },
      "source": [
        "The data table can be used as is, but it can also be translated into different formats depending on user preference.  Here we will demonstrate how to put the results of a MAST query into an Astropy Table."
      ]
    },
    {
      "cell_type": "code",
      "execution_count": 82,
      "metadata": {
        "colab": {
          "base_uri": "https://localhost:8080/",
          "height": 200
        },
        "id": "pEIiBBhlh19e",
        "outputId": "5289c3ce-ee94-4ad4-c92c-19968ed84056"
      },
      "outputs": [
        {
          "output_type": "error",
          "ename": "AttributeError",
          "evalue": "ignored",
          "traceback": [
            "\u001b[0;31m---------------------------------------------------------------------------\u001b[0m",
            "\u001b[0;31mAttributeError\u001b[0m                            Traceback (most recent call last)",
            "\u001b[0;32m<ipython-input-82-d37adc5d4127>\u001b[0m in \u001b[0;36m<module>\u001b[0;34m()\u001b[0m\n\u001b[1;32m      9\u001b[0m \u001b[0;34m\u001b[0m\u001b[0m\n\u001b[1;32m     10\u001b[0m \u001b[0;34m\u001b[0m\u001b[0m\n\u001b[0;32m---> 11\u001b[0;31m \u001b[0mprint\u001b[0m\u001b[0;34m(\u001b[0m\u001b[0mmast_data_table\u001b[0m\u001b[0;34m[\u001b[0m\u001b[0;34m'obs_collection'\u001b[0m\u001b[0;34m]\u001b[0m\u001b[0;34m.\u001b[0m\u001b[0mloc\u001b[0m\u001b[0;34m[\u001b[0m\u001b[0;34m'JWST'\u001b[0m\u001b[0;34m]\u001b[0m\u001b[0;34m)\u001b[0m\u001b[0;34m\u001b[0m\u001b[0;34m\u001b[0m\u001b[0m\n\u001b[0m",
            "\u001b[0;31mAttributeError\u001b[0m: 'Column' object has no attribute 'loc'"
          ]
        }
      ],
      "source": [
        "mast_data_table = Table()\n",
        "\n",
        "for col,atype in [(x['name'],x['type']) for x in mast_data['fields']]:\n",
        "    if atype==\"string\":\n",
        "        atype=\"str\"\n",
        "    if atype==\"boolean\":\n",
        "        atype=\"bool\"\n",
        "    mast_data_table[col] = np.array([x.get(col,None) for x in mast_data['data']],dtype=atype)\n",
        "\n",
        "\n",
        "print(mast_data_table['obs_collection'])\n",
        "\n",
        "\n"
      ]
    },
    {
      "cell_type": "code",
      "source": [
        "datas = mast_data_table['obs_collection']\n",
        "print(type(datas))"
      ],
      "metadata": {
        "colab": {
          "base_uri": "https://localhost:8080/"
        },
        "id": "cQzQm45Wwa_O",
        "outputId": "66a26208-bb2f-4293-eba5-15c5bbec6120"
      },
      "execution_count": 83,
      "outputs": [
        {
          "output_type": "stream",
          "name": "stdout",
          "text": [
            "<class 'astropy.table.column.Column'>\n"
          ]
        }
      ]
    },
    {
      "cell_type": "markdown",
      "metadata": {
        "id": "rxVbKigbh19f"
      },
      "source": [
        "At this point we are ready to do analysis on these observations.  However, if we want to access the actual data products, there are a few more steps."
      ]
    },
    {
      "cell_type": "markdown",
      "metadata": {
        "id": "MA7uY1dDh19f"
      },
      "source": [
        "### Step 2 tangent: filtered query\n",
        "\n",
        "An alternative to the cone search query is the filtered query.  This is analogous to Advanced Search in the Portal and results in the same list of observations as the cone search, but filtered on other criteria. The services we'll use to do this are **Mast.Caom.Filtered** and **Mast.Caom.Filtered.Position**. "
      ]
    },
    {
      "cell_type": "markdown",
      "metadata": {
        "id": "tJ0eyf13h19f"
      },
      "source": [
        "Filtered queries can often end up being quite large, so we will first do a query that just returns the number of results and decide if it is managable before we do the full query. We do this by supplying the parameter `\"columns\":\"COUNT_BIG(*)\"`."
      ]
    },
    {
      "cell_type": "code",
      "execution_count": 77,
      "metadata": {
        "colab": {
          "base_uri": "https://localhost:8080/"
        },
        "id": "X2se0jezh19f",
        "outputId": "818d18c6-bb59-48c3-a26f-e5aa90053b78"
      },
      "outputs": [
        {
          "output_type": "stream",
          "name": "stdout",
          "text": [
            "{   'data': [{'Column1': 5775}],\n",
            "    'fields': [{'name': 'Column1', 'type': 'string'}],\n",
            "    'msg': '',\n",
            "    'paging': {   'page': 1,\n",
            "                  'pageSize': 1,\n",
            "                  'pagesFiltered': 1,\n",
            "                  'rows': 1,\n",
            "                  'rowsFiltered': 1,\n",
            "                  'rowsTotal': 1},\n",
            "    'status': 'COMPLETE'}\n"
          ]
        }
      ],
      "source": [
        "mashup_request = {\"service\":\"Mast.Caom.Filtered\",\n",
        "                  \"format\":\"json\",\n",
        "                  \"params\":{\n",
        "                      \"columns\":\"COUNT_BIG(*)\",\n",
        "                      \"filters\":[\n",
        "                          # {\"paramName\":\"filters\",\n",
        "                          #  \"values\":[\"NUV\",\"FUV\"],\n",
        "                          #  \"separator\":\";\"\n",
        "                          # },\n",
        "                          {\"paramName\":\"t_max\",\n",
        "                           \"values\":[{\"min\":52264.4586,\"max\":54452.8914}], #MJD\n",
        "                          },\n",
        "                          {\"paramName\":\"obsid\",\n",
        "                           \"values\":[],\n",
        "                           \"freeText\":\"%200%\"}\n",
        "                      ]}}\n",
        "    \n",
        "headers, out_string = mast_query(mashup_request)\n",
        "count = json.loads(out_string)\n",
        "\n",
        "pp.pprint(count)"
      ]
    },
    {
      "cell_type": "markdown",
      "metadata": {
        "id": "eD8cFlvBh19f"
      },
      "source": [
        "1,068 isn't too many observations so we can go ahead and request them. The only thing we need to do differently is change `\"columns\":\"COUNT_BIG(*)\"` to `\"columns\":\"*\"`."
      ]
    },
    {
      "cell_type": "code",
      "execution_count": 79,
      "metadata": {
        "colab": {
          "base_uri": "https://localhost:8080/"
        },
        "id": "fT5Mxx9Hh19g",
        "outputId": "5077722e-09c2-4168-8fa0-3337aac36d30"
      },
      "outputs": [
        {
          "output_type": "stream",
          "name": "stdout",
          "text": [
            "dict_keys(['status', 'msg', 'data', 'fields', 'paging'])\n",
            "Query status: COMPLETE\n"
          ]
        }
      ],
      "source": [
        "mashup_request = {\"service\":\"Mast.Caom.Filtered\",\n",
        "                 \"format\":\"json\",\n",
        "                 \"params\":{\n",
        "                     \"columns\":\"*\",\n",
        "                     \"filters\":[\n",
        "                        #  {\"paramName\":\"filters\",\n",
        "                        #   \"values\":[\"NUV\",\"FUV\"],\n",
        "                        #   \"separator\":\";\"\n",
        "                        #  },\n",
        "                         {\"paramName\":\"t_max\",\n",
        "                          \"values\":[{\"min\":52264.4586,\"max\":54452.8914}], #MJD\n",
        "                         },\n",
        "                         {\"paramName\":\"obsid\",\n",
        "                          \"values\":[],\n",
        "                          \"freeText\":\"%200%\"}\n",
        "                     ]}}\n",
        "    \n",
        "headers, out_string = mast_query(mashup_request)\n",
        "filtered_data = json.loads(out_string)\n",
        "\n",
        "print(filtered_data.keys())\n",
        "print(\"Query status:\", filtered_data['status'])"
      ]
    },
    {
      "cell_type": "code",
      "execution_count": 81,
      "metadata": {
        "colab": {
          "base_uri": "https://localhost:8080/"
        },
        "id": "WqvKfFV-h19g",
        "outputId": "5f00c07e-3a5d-4f48-e4c4-b641bc207153"
      },
      "outputs": [
        {
          "output_type": "stream",
          "name": "stdout",
          "text": [
            "{   'calib_level': 2,\n",
            "    'dataRights': 'PUBLIC',\n",
            "    'dataURL': 'http://galex.stsci.edu/data/GR6/pipe/02-vsn/50152-AIS_152/d/01-main/0001-img/07-try/AIS_152_sg03-nd-int.fits.gz',\n",
            "    'dataproduct_type': 'image',\n",
            "    'em_max': 300700000000,\n",
            "    'em_min': 169300000000,\n",
            "    'filters': 'NUV',\n",
            "    'instrument_name': 'GALEX',\n",
            "    'intentType': 'science',\n",
            "    'jpegURL': 'http://galex.stsci.edu/data/GR6/pipe/02-vsn/50152-AIS_152/d/01-main/0001-img/07-try/qa/AIS_152_sg03-xd-int_2color.jpg',\n",
            "    'mtFlag': None,\n",
            "    'objID': 33437,\n",
            "    'obs_collection': 'GALEX',\n",
            "    'obs_id': '6376263783265861632',\n",
            "    'obs_title': None,\n",
            "    'obsid': 20010,\n",
            "    'project': 'AIS',\n",
            "    'proposal_id': None,\n",
            "    'proposal_pi': None,\n",
            "    'proposal_type': 'AIS',\n",
            "    'provenance_name': 'AIS',\n",
            "    's_dec': 6.81113812316236,\n",
            "    's_ra': 337.231250861631,\n",
            "    's_region': 'CIRCLE ICRS 337.23125086   6.81113812 0.625',\n",
            "    'sequence_number': -999,\n",
            "    'srcDen': 5885,\n",
            "    't_exptime': 191,\n",
            "    't_max': 54355.92873842592,\n",
            "    't_min': 54002.52028935185,\n",
            "    't_obs_release': 55426.60631934,\n",
            "    'target_classification': None,\n",
            "    'target_name': 'AIS_152_1_3',\n",
            "    'wavelength_region': 'UV'}\n"
          ]
        }
      ],
      "source": [
        "pp.pprint(filtered_data['data'][10])"
      ]
    },
    {
      "cell_type": "markdown",
      "metadata": {
        "id": "0eZK8hUUh19g"
      },
      "source": [
        "To add position to a filtered query we use the service **Mast.Caom.Filtered.Position** and  add a new parameter `\"position\":\"positionString\"` where positionString has the form `\"ra dec radius\"` in degrees."
      ]
    },
    {
      "cell_type": "code",
      "execution_count": 40,
      "metadata": {
        "colab": {
          "base_uri": "https://localhost:8080/"
        },
        "id": "iXjRq_TEh19g",
        "outputId": "66210b18-d533-43d0-aa33-06e763a640b2"
      },
      "outputs": [
        {
          "output_type": "stream",
          "name": "stdout",
          "text": [
            "{   'data': [{'Column1': 797}],\n",
            "    'fields': [{'name': 'Column1', 'type': 'string'}],\n",
            "    'msg': '',\n",
            "    'paging': {   'page': 1,\n",
            "                  'pageSize': 1,\n",
            "                  'pagesFiltered': 1,\n",
            "                  'rows': 1,\n",
            "                  'rowsFiltered': 1,\n",
            "                  'rowsTotal': 1},\n",
            "    'status': 'COMPLETE'}\n"
          ]
        }
      ],
      "source": [
        "mashup_request = {\n",
        "        \"service\":\"Mast.Caom.Filtered.Position\",\n",
        "        \"format\":\"json\",\n",
        "        \"params\":{\n",
        "            \"columns\":\"COUNT_BIG(*)\",\n",
        "            \"filters\":[\n",
        "                {\"paramName\":\"dataproduct_type\",\n",
        "                 \"values\":[\"cube\"]\n",
        "                }],\n",
        "            \"position\":\"210.8023, 54.349, 0.24\"\n",
        "        }}\n",
        "\n",
        "headers, out_string = mast_query(mashup_request)\n",
        "count = json.loads(out_string)\n",
        "\n",
        "pp.pprint(count)"
      ]
    },
    {
      "cell_type": "markdown",
      "metadata": {
        "id": "IMYWF-nqh19h"
      },
      "source": [
        "### Step 3: Getting Data Products\n",
        "Before we can download observational data, we need to figure out what data products are associated with the observation(s) we are interested in.  To do that we will use the **Mast.Caom.Products** service. This service takes the \"obsid\" (\"Product Group ID\" is the formated label visible in the Portal) and returns information about the associated data products.  This query can be thought of as somewhat analogous to adding an observation to the basket in the Portal."
      ]
    },
    {
      "cell_type": "code",
      "execution_count": 41,
      "metadata": {
        "colab": {
          "base_uri": "https://localhost:8080/"
        },
        "id": "43c0yFmjh19h",
        "outputId": "a716aef2-18c8-460f-c732-f7e9f94295b8"
      },
      "outputs": [
        {
          "output_type": "stream",
          "name": "stdout",
          "text": [
            "Observation: ['image', 'JWST', 'NIRCAM']\n"
          ]
        }
      ],
      "source": [
        "# Picking the first Hubble Space Telescope observation\n",
        "interesting_observation = mast_data_table[mast_data_table[\"obs_collection\"] == \"JWST\"][0]\n",
        "print(\"Observation:\",\n",
        "      [interesting_observation[x] for x in ['dataproduct_type', 'obs_collection', 'instrument_name']])"
      ]
    },
    {
      "cell_type": "code",
      "execution_count": 47,
      "metadata": {
        "colab": {
          "base_uri": "https://localhost:8080/"
        },
        "id": "wcXfom58h19h",
        "outputId": "5e6040d1-d5f3-4c86-948e-1be4f1f1eed1"
      },
      "outputs": [
        {
          "output_type": "stream",
          "name": "stdout",
          "text": [
            "Number of data products: 5958\n",
            "Product information column names:\n",
            "[   {'name': 'obsID', 'type': 'string'},\n",
            "    {'name': 'obs_collection', 'type': 'string'},\n",
            "    {'name': 'dataproduct_type', 'type': 'string'},\n",
            "    {'name': 'obs_id', 'type': 'string'},\n",
            "    {'name': 'description', 'type': 'string'},\n",
            "    {'name': 'type', 'type': 'string'},\n",
            "    {'name': 'dataURI', 'type': 'string'},\n",
            "    {'name': 'productType', 'type': 'string'},\n",
            "    {'name': 'productGroupDescription', 'type': 'string'},\n",
            "    {'name': 'productSubGroupDescription', 'type': 'string'},\n",
            "    {'name': 'productDocumentationURL', 'type': 'string'},\n",
            "    {'name': 'project', 'type': 'string'},\n",
            "    {'name': 'prvversion', 'type': 'string'},\n",
            "    {'name': 'proposal_id', 'type': 'string'},\n",
            "    {'name': 'productFilename', 'type': 'string'},\n",
            "    {'name': 'size', 'type': 'int'},\n",
            "    {'name': 'parent_obsid', 'type': 'string'},\n",
            "    {'name': 'dataRights', 'type': 'string'},\n",
            "    {'name': 'calib_level', 'type': 'int'},\n",
            "    {'name': '_selected_', 'type': 'boolean'}]\n"
          ]
        }
      ],
      "source": [
        "obsid = interesting_observation['obsid']\n",
        "\n",
        "product_request = {'service':'Mast.Caom.Products',\n",
        "                  'params':{'obsid':obsid},\n",
        "                  'format':'json',\n",
        "                  'pagesize':100\n",
        "                   }   \n",
        "\n",
        "headers, obs_products_string = mast_query(product_request)\n",
        "\n",
        "obs_products = json.loads(obs_products_string)\n",
        "\n",
        "print(\"Number of data products:\", len(obs_products[\"data\"]))\n",
        "print(\"Product information column names:\")\n",
        "pp.pprint(obs_products['fields'])"
      ]
    },
    {
      "cell_type": "markdown",
      "metadata": {
        "id": "sXReFetYh19h"
      },
      "source": [
        "We might not want to download all of the available products, let's take a closer look and see which ones are important."
      ]
    },
    {
      "cell_type": "code",
      "source": [
        "length = len([x.get('calib_level',\"\") for x in obs_products[\"data\"]])\n",
        "print(length)"
      ],
      "metadata": {
        "colab": {
          "base_uri": "https://localhost:8080/"
        },
        "id": "sbrAYwkqse1H",
        "outputId": "d893060c-d3e5-4811-c64a-d75c8ccf2476"
      },
      "execution_count": 65,
      "outputs": [
        {
          "output_type": "stream",
          "name": "stdout",
          "text": [
            "5958\n"
          ]
        }
      ]
    },
    {
      "cell_type": "code",
      "execution_count": 69,
      "metadata": {
        "colab": {
          "base_uri": "https://localhost:8080/"
        },
        "id": "jOelAQ9Mh19h",
        "outputId": "408e0171-5289-4cfc-fe41-18fcc251136c"
      },
      "outputs": [
        {
          "output_type": "stream",
          "name": "stdout",
          "text": [
            "[True, True, True, True, True, True, False, False, False, False, False, False, False, False, False, False, False, False, False, False, False, False, False, False, False, False, False, False, False, False, False, False, False, False, False, False, False, False, False, False, False, False, False, False, False, False, False, False, False, False, False, False, False, False, False, False, False, False, False, False, False, False, False, False, False, False, False, False, False, False, False, False, False, False, False, False, False, False, False, False, False, False, False, False, False, False, False, False, False, False, False, False, False, False, False, False, False, False, False, False, False, False, False, False, False, False, False, False, False, False, False, False, False, False, False, False, False, False, False, False, False, False, False, False, False, False, False, False, False, False, False, False, False, False, False, False, False, False, False, False, False, False, False, False, False, False, False, False, False, False, False, False, False, False, False, False, False, False, False, False, False, False, False, False, False, False, False, False, False, False, False, False, False, False, False, False, False, False, False, False, False, False, False, False, False, False, False, False, False, False, False, False, False, False, False, False, False, False, False, False, False, False, False, False, False, False, False, False, False, False, False, False, False, False, False, False, False, False, False, False, False, False, False, False, False, False, False, False, False, False, False, False, False, False, False, False, False, False, False, False, False, False, False, False, False, False, False, False, False, False, False, False, False, False, False, False, False, False, False, False, False, False, False, False, False, False, False, False, False, False, False, False, False, False, False, False, False, False, False, False, False, False, False, False, False, False, False, False, False, False, False, False, False, False, False, False, False, False, False, False, False, False, False, False, False, False, False, False, False, False, False, False, False, False, False, False, False, False, False, False, False, False, False, False, False, False, False, False, False, False, False, False, False, False, False, False, False, False, False, False, False, False, False, False, False, False, False, False, False, False, False, False, False, False, False, False, False, False, False, False, False, False, False, False, False, False, False, False, False, False, False, False, False, False, False, False, False, False, False, False, False, False, False, False, False, False, False, False, False, False, False, False, False, False, False, False, False, False, False, False, False, False, False, False, False, False, False, False, False, False, False, False, False, False, False, False, False, False, False, False, False, False, False, False, False, False, False, False, False, False, False, False, False, False, False, False, False, False, False, False, False, False, False, False, False, False, False, False, False, False, False, False, False, False, False, False, False, False, False, False, False, False, False, False, False, False, False, False, False, False, False, False, False, False, False, False, False, False, False, False, False, False, False, False, False, False, False, False, False, False, False, False, False, False, False, False, False, False, False, False, False, False, False, False, False, False, False, False, False, False, False, False, False, False, False, False, False, False, False, False, False, False, False, False, False, False, False, False, False, False, False, False, False, False, False, False, False, False, False, False, False, False, False, False, False, False, False, False, False, False, False, False, False, False, False, False, False, False, False, False, False, False, False, False, False, False, False, False, False, False, False, False, False, False, False, False, False, False, False, False, False, False, False, False, False, False, False, False, False, False, False, False, False, False, False, False, False, False, False, False, False, False, False, False, False, False, False, False, False, False, False, False, False, False, False, False, False, False, False, False, False, False, False, False, False, False, False, False, False, False, False, False, False, False, False, False, False, False, False, False, False, False, False, False, False, False, False, False, False, False, False, False, False, False, False, False, False, False, False, False, False, False, False, False, False, False, False, False, False, False, False, False, False, False, False, False, False, False, False, False, False, False, False, False, False, False, False, False, False, False, False, False, False, False, False, False, False, False, False, False, False, False, False, False, False, False, False, False, False, False, False, False, False, False, False, False, False, False, False, False, False, False, False, False, False, False, False, False, False, False, False, False, False, False, False, False, False, False, False, False, False, False, False, False, False, False, False, False, False, False, False, False, False, False, False, False, False, False, False, False, False, False, False, False, False, False, False, False, False, False, False, False, False, False, False, False, False, False, False, False, False, False, False, False, False, False, False, False, False, False, False, False, False, False, False, False, False, False, False, False, False, False, False, False, False, False, False, False, False, False, False, False, False, False, False, False, False, False, False, False, False, False, False, False, False, False, False, False, False, False, False, False, False, False, False, False, False, False, False, False, False, False, False, False, False, False, False, False, False, False, False, False, False, False, False, False, False, False, False, False, False, False, False, False, False, False, False, False, False, False, False, False, False, False, False, False, False, False, False, False, False, False, False, False, False, False, False, False, False, False, False, False, False, False, False, False, False, False, False, False, False, False, False, False, False, False, False, False, False, False, False, False, False, False, False, False, False, False, False, False, False, False, False, False, False, False, False, False, False, False, False, False, False, False, False, False, False, False, False, False, False, False, False, False, False, False, False, False, False, False, False, False, False, False, False, False, False, False, False, False, False, False, False, False, False, False, False, False, False, False, False, False, False, False, False, False, False, False, False, False, False, False, False, False, False, False, False, False, False, False, False, False, False, False, False, False, False, False, False, False, False, False, False, False, False, False, False, False, False, False, False, False, False, False, False, False, False, False, False, False, False, False, False, False, False, False, False, False, False, False, False, False, False, False, False, False, False, False, False, False, False, False, False, False, False, False, False, False, False, False, False, False, False, False, False, False, False, False, False, False, False, False, False, False, False, False, False, False, False, False, False, False, False, False, False, False, False, False, False, False, False, False, False, False, False, False, False, False, False, False, False, False, False, False, False, False, False, False, False, False, False, False, False, False, False, False, False, False, False, False, False, False, False, False, False, False, False, False, False, False, False, False, False, False, False, False, False, False, False, False, False, False, False, False, False, False, False, False, False, False, False, False, False, False, False, False, False, False, False, False, False, False, False, False, False, False, False, False, False, False, False, False, False, False, False, False, False, False, False, False, False, False, False, False, False, False, False, False, False, False, False, False, False, False, False, False, False, False, False, False, False, False, False, False, False, False, False, False, False, False, False, False, False, False, False, False, False, False, False, False, False, False, False, False, False, False, False, False, False, False, False, False, False, False, False, False, False, False, False, False, False, False, False, False, False, False, False, False, False, False, False, False, False, False, False, False, False, False, False, False, False, False, False, False, False, False, False, False, False, False, False, False, False, False, False, False, False, False, False, False, False, False, False, False, False, False, False, False, False, False, False, False, False, False, False, False, False, False, False, False, False, False, False, False, False, False, False, False, False, False, False, False, False, False, False, False, False, False, False, False, False, False, False, False, False, False, False, False, False, False, False, False, False, False, False, False, False, False, False, False, False, False, False, False, False, False, False, False, False, False, False, False, False, False, False, False, False, False, False, False, False, False, False, False, False, False, False, False, False, False, False, False, False, False, False, False, False, False, False, False, False, False, False, False, False, False, False, False, False, False, False, False, False, False, False, False, False, False, False, False, False, False, False, False, False, False, False, False, False, False, False, False, False, False, False, False, False, False, False, False, False, False, False, False, False, False, False, False, False, False, False, False, False, False, False, False, False, False, False, False, False, False, False, False, False, False, False, False, False, False, False, False, False, False, False, False, False, False, False, False, False, False, False, False, False, False, False, False, False, False, False, False, False, False, False, False, False, False, False, False, False, False, False, False, False, False, False, False, False, False, False, False, False, False, False, False, False, False, False, False, False, False, False, False, False, False, False, False, False, False, False, False, False, False, False, False, False, False, False, False, False, False, False, False, False, False, False, False, False, False, False, False, False, False, False, False, False, False, False, False, False, False, False, False, False, False, False, False, False, False, False, False, False, False, False, False, False, False, False, False, False, False, False, False, False, False, False, False, False, False, False, False, False, False, False, False, False, False, False, False, False, False, False, False, False, False, False, False, False, False, False, False, False, False, False, False, False, False, False, False, False, False, False, False, False, False, False, False, False, False, False, False, False, False, False, False, False, False, False, False, False, False, False, False, False, False, False, False, False, False, False, False, False, False, False, False, False, False, False, False, False, False, False, False, False, False, False, False, False, False, False, False, False, False, False, False, False, False, False, False, False, False, False, False, False, False, False, False, False, False, False, False, False, False, False, False, False, False, False, False, False, False, False, False, False, False, False, False, False, False, False, False, False, False, False, False, False, False, False, False, False, False, False, False, False, False, False, False, False, False, False, False, False, False, False, False, False, False, False, False, False, False, False, False, False, False, False, False, False, False, False, False, False, False, False, False, False, False, False, False, False, False, False, False, False, False, False, False, False, False, False, False, False, False, False, False, False, False, False, False, False, False, False, False, False, False, False, False, False, False, False, False, False, False, False, False, False, False, False, False, False, False, False, False, False, False, False, False, False, False, False, False, False, False, False, False, False, False, False, False, False, False, False, False, False, False, False, False, False, False, False, False, False, False, False, False, False, False, False, False, False, False, False, False, False, False, False, False, False, False, False, False, False, False, False, False, False, False, False, False, False, False, False, False, False, False, False, False, False, False, False, False, False, False, False, False, False, False, False, False, False, False, False, False, False, False, False, False, False, False, False, False, False, False, False, False, False, False, False, False, False, False, False, False, False, False, False, False, False, False, False, False, False, False, False, False, False, False, False, False, False, False, False, False, False, False, False, False, False, False, False, False, False, False, False, False, False, False, False, False, False, False, False, False, False, False, False, False, False, False, False, False, False, False, False, False, False, False, False, False, False, False, False, False, False, False, False, False, False, False, False, False, False, False, False, False, False, False, False, False, False, False, False, False, False, False, False, False, False, False, False, False, False, False, False, False, False, False, False, False, False, False, False, False, False, False, False, False, False, False, False, False, False, False, False, False, False, False, False, False, False, False, False, False, False, False, False, False, False, False, False, False, False, False, False, False, False, False, False, False, False, False, False, False, False, False, False, False, False, False, False, False, False, False, False, False, False, False, False, False, False, False, False, False, False, False, False, False, False, False, False, False, False, False, False, False, False, False, False, False, False, False, False, False, False, False, False, False, False, False, False, False, False, False, False, False, False, False, False, False, False, False, False, False, False, False, False, False, False, False, False, False, False, False, False, False, False, False, False, False, False, False, False, False, False, False, False, False, False, False, False, False, False, False, False, False, False, False, False, False, False, False, False, False, False, False, False, False, False, False, False, False, False, False, False, False, False, False, False, False, False, False, False, False, False, False, False, False, False, False, False, False, False, False, False, False, False, False, False, False, False, False, False, False, False, False, False, False, False, False, False, False, False, False, False, False, False, False, False, False, False, False, False, False, False, False, False, False, False, False, False, False, False, False, False, False, False, False, False, False, False, False, False, False, False, False, False, False, False, False, False, False, False, False, False, False, False, False, False, False, False, False, False, False, False, False, False, False, False, False, False, False, False, False, False, False, False, False, False, False, False, False, False, False, False, False, False, False, False, False, False, False, False, False, False, False, False, False, False, False, False, False, False, False, False, False, False, False, False, False, False, False, False, False, False, False, False, False, False, False, False, False, False, False, False, False, False, False, False, False, False, False, False, False, False, False, False, False, False, False, False, False, False, False, False, False, False, False, False, False, False, False, False, False, False, False, False, False, False, False, False, False, False, False, False, False, False, False, False, False, False, False, False, False, False, False, False, False, False, False, False, False, False, False, False, False, False, False, False, False, False, False, False, False, False, False, False, False, False, False, False, False, False, False, False, False, False, False, False, False, False, False, False, False, False, False, False, False, False, False, False, False, False, False, False, False, False, False, False, False, False, False, False, False, False, False, False, False, False, False, False, False, False, False, False, False, False, False, False, False, False, False, False, False, False, False, False, False, False, False, False, False, False, False, False, False, False, False, False, False, False, False, False, False, False, False, False, False, False, False, False, False, False, False, False, False, False, False, False, False, False, False, False, False, False, False, False, False, False, False, False, False, False, False, False, False, False, False, False, False, False, False, False, False, False, False, False, False, False, False, False, False, False, False, False, False, False, False, False, False, False, False, False, False, False, False, False, False, False, False, False, False, False, False, False, False, False, False, False, False, False, False, False, False, False, False, False, False, False, False, False, False, False, False, False, False, False, False, False, False, False, False, False, False, False, False, False, False, False, False, False, False, False, False, False, False, False, False, False, False, False, False, False, False, False, False, False, False, False, False, False, False, False, False, False, False, False, False, False, False, False, False, False, False, False, False, False, False, False, False, False, False, False, False, False, False, False, False, False, False, False, False, False, False, False, False, False, False, False, False, False, False, False, False, False, False, False, False, False, False, False, False, False, False, False, False, False, False, False, False, False, False, False, False, False, False, False, False, False, False, False, False, False, False, False, False, False, False, False, False, False, False, False, False, False, False, False, False, False, False, False, False, False, False, False, False, False, False, False, False, False, False, False, False, False, False, False, False, False, False, False, False, False, False, False, False, False, False, False, False, False, False, False, False, False, False, False, False, False, False, False, False, False, False, False, False, False, False, False, False, False, False, False, False, False, False, False, False, False, False, False, False, False, False, False, False, False, False, False, False, False, False, False, False, False, False, False, False, False, False, False, False, False, False, False, False, False, False, False, False, False, False, False, False, False, False, False, False, False, False, False, False, False, False, False, False, False, False, False, False, False, False, False, False, False, False, False, False, False, False, False, False, False, False, False, False, False, False, False, False, False, False, False, False, False, False, False, False, False, False, False, False, False, False, False, False, False, False, False, False, False, False, False, False, False, False, False, False, False, False, False, False, False, False, False, False, False, False, False, False, False, False, False, False, False, False, False, False, False, False, False, False, False, False, False, False, False, False, False, False, False, False, False, False, False, False, False, False, False, False, False, False, False, False, False, False, False, False, False, False, False, False, False, False, False, False, False, False, False, False, False, False, False, False, False, False, False, False, False, False, False, False, False, False, False, False, False, False, False, False, False, False, False, False, False, False, False, False, False, False, False, False, False, False, False, False, False, False, False, False, False, False, False, False, False, False, False, False, False, False, False, False, False, False, False, False, False, False, False, False, False, False, False, False, False, False, False, False, False, False, False, False, False, False, False, False, False, False, False, False, False, False, False, False, False, False, False, False, False, False, False, False, False, False, False, False, False, False, False, False, False, False, False, False, False, False, False, False, False, False, False, False, False, False, False, False, False, False, False, False, False, False, False, False, False, False, False, False, False, False, False, False, False, False, False, False, False, False, False, False, False, False, False, False, False, False, False, False, False, False, False, False, False, False, False, False, False, False, False, False, False, False, False, False, False, False, False, False, False, False, False, False, False, False, False, False, False, False, False, False, False, False, False, False, False, False, False, False, False, False, False, False, False, False, False, False, False, False, False, False, False, False, False, False, False, False, False, False, False, False, False, False, False, False, False, False, False, False, False, False, False, False, False, False, False, False, False, False, False, False, False, False, False, False, False, False, False, False, False, False, False, False, False, False, False, False, False, False, False, False, False, False, False, False, False, False, False, False, False, False, False, False, False, False, False, False, False, False, False, False, False, False, False, False, False, False, False, False, False, False, False, False, False, False, False, False, False, False, False, False, False, False, False, False, False, False, False, False, False, False, False, False, False, False, False, False, False, False, False, False, False, False, False, False, False, False, False, False, False, False, False, False, False, False, False, False, False, False, False, False, False, False, False, False, False, False, False, False, False, False, False, False, False, False, False, False, False, False, False, False, False, False, False, False, False, False, False, False, False, False, False, False, False, False, False, False, False, False, False, False, False, False, False, False, False, False, False, False, False, False, False, False, False, False, False, False, False, False, False, False, False, False, False, False, False, False, False, False, False, False, False, False, False, False, False, False, False, False, False, False, False, False, False, False, False, False, False, False, False, False, False, False, False, False, False, False, False, False, False, False, False, False, False, False, False, False, False, False, False, False, False, False, False, False, False, False, False, False, False, False, False, False, False, False, False, False, False, False, False, False, False, False, False, False, False, False, False, False, False, False, False, False, False, False, False, False, False, False, False, False, False, False, False, False, False, False, False, False, False, False, False, False, False, False, False, False, False, False, False, False, False, False, False, False, False, False, False, False, False, False, False, False, False, False, False, False, False, False, False, False, False, False, False, False, False, False, False, False, False, False, False, False, False, False, False, False, False, False, False, False, False, False, False, False, False, False, False, False, False, False, False, False, False, False, False, False, False, False, False, False, False, False, False, False, False, False, False, False, False, False, False, False, False, False, False, False, False, False, False, False, False, False, False, False, False, False, False, False, False, False, False, False, False, False, False, False, False, False, False, False, False, False, False, False, False, False, False, False, False, False, False, False, False, False, False, False, False, False, False, False, False, False, False, False, False, False, False, False, False, False, False, False, False, False, False, False, False, False, False, False, False, False, False, False, False, False, False, False, False, False, False, False, False, False, False, False, False, False, False, False, False, False, False, False, False, False, False, False, False, False, False, False, False, False, False, False, False, False, False, False, False, False, False, False, False, False, False, False, False, False, False, False, False, False, False, False, False, False, False, False, False, False, False, False, False, False, False, False, False, False, False, False, False, False, False, False, False, False, False, False, False, False, False, False, False, False, False, False, False, False, False, False, False, False, False, False, False, False, False, False, False, False, False, False, False, False, False, False, False, False, False, False, False, False, False, False, False, False, False, False, False, False, False, False, False, False, False, False, False, False, False, False, False, False, False, False, False, False, False, False, False, False, False, False, False, False, False, False, False, False, False, False, False, False, False, False, False, False, False, False, False, False, False, False, False, False, False, False, False, False, False, False, False, False, False, False, False, False, False, False, False, False, False, False, False, False, False, False, False, False, False, False, False, False, False, False, False, False, False, False, False, False, False, False, False, False, False, False, False, False, False, False, False, False, False, False, False, False, False, False, False, False, False, False, False, False, False, False, False, False, False, False, False, False, False, False, False, False, False, False, False, False, False, False, False, False, False, False, False, False, False, False, False, False, False, False, False, False, False, False, False, False, False, False, False, False, False, False, False, False, False, False, False, False, False, False, False, False, False, False, False, False, False, False, False, False, False, False, False, False, False, False, False, False, False, False, False, False, False, False, False, False, False, False, False, False, False, False, False, False, False, False, False, False, False, False, False, False, False, False, False, False, False, False, False, False, False, False, False, False, False, False, False, False, False, False, False, False, False, False, False, False, False, False, False, False, False, False, False, False, False, False, False, False, False, False, False, False, False, False, False, False, False, False, False, False, False, False, False, False, False, False, False, False, False, False, False, False, False, False, False, False, False, False, False, False, False, False, False, False, False, False, False, False, False, False, False, False, False, False, False, False, False, False, False, False, False, False, False, False, False, False, False, False, False, False, False, False, False, False, False, False, False, False, False, False, False, False, False, False, False, False, False, False, False, False, False, False, False, False, False, False, False, False, False, False, False, False, False, False, False, False, False, False, False, False, False, False, False, False, False, False, False, False, False, False, False, False, False, False, False, False, False, False, False, False, False, False, False, False, False, False, False, False, False, False, False, False, False, False, False, False, False, False, False, False, False, False, False, False, False, False, False, False, False, False, False, False, False, False, False, False, False, False, False, False, False, False, False, False, False, False, False, False, False, False, False, False, False, False, False, False, False, False, False, False, False, False, False, False, False, False, False, False, False, False, False, False, False, False, False, False, False, False, False, False, False, False, False, False, False, False, False, False, False, False, False, False, False, False, False, False, False, False, False, False, False, False, False, False, False, False, False, False, False, False, False, False, False, False, False, False, False, False, False, False, False, False, False, False, False, False, False, False, False, False, False, False, False, False, False, False, False, False, False, False, False, False, False, False, False, False, False, False, False, False, False, False, False, False, False, False, False, False, False, False, False, False, False, False, False, False, False, False, False, False, False, False, False, False, False, False, False, False, False, False, False, False, False, False, False, False, False, False, False, False, False, False, False, False, False, False, False, False, False, False, False, False, False, False, False, False, False, False, False, False, False, False, False, False, False, False, False, False, False, False, False, False, False, False, False, False, False, False, False, False, False, False, False, False, False, False, False, False, False, False, False, False, False, False, False, False, False, False, False, False, False, False, False, False, False, False, False, False, False, False, False, False, False, False, False, False, False, False, False, False, False, False, False, False, False, False, False, False, False, False, False, False, False, False, False, False, False, False, False, False, False, False, False, False, False, False, False, False, False, False, False, False, False, False, False, False, False, False, False, False, False, False, False, False, False, False, False, False, False, False, False, False, False, False, False, False, False, False, False, False, False, False, False, False, False, False, False, False, False, False, False, False, False, False, False, False, False, False, False, False, False, False, False, False, False, False, False, False, False, False, False, False, False, False, False, False, False, False, False, False, False, False, False, False, False, False, False, False, False, False, False, False, False, False, False, False, False, False, False, False, False, False, False, False, False, False, False, False, False, False, False, False, False, False, False, False, False, False, False, False, False, False, False, False, False, False, False, False, False, False, False, False, False, False, False, False, False, False, False, False, False, False, False, False, False, False, False, False, False, False, False, False, False, False, False, False, False, False, False, False, False, False, False, False, False, False, False, False, False, False, False, False, False, False, False, False, False, False, False, False, False, False, False, False, False, False, False, False, False, False, False, False, False, False, False, False, False, False, False, False, False, False, False, False, False, False, False, False, False, False, False, False, False, False, False, False, False, False, False, False, False, False, False, False, False, False, False, False, False, False, False, False, False, False, False, False, False, False, False, False, False, False, False, False, False, False, False, False, False, False, False, False, False, False, False, False, False, False, False, False, False, False, False, False, False, False, False, False, False, False, False, False, False, False, False, False, False, False, False, False, False, False, False, False, False, False, False, False, False, False, False, False, False, False, False, False, False, False, False, False, False, False, False, False, False, False, False, False, False, False, False, False, False, False, False, False, False, False, False, False, False, False, False, False, False, False, False, False, False, False, False, False, False, False, False, False, False, False, False, False, False, False, False, False, False, False, False, False, False, False, False, False, False, False, False, False, False, False, False, False, False, False, False, False, False, False, False, False, False, False, False, False, False, False, False, False, False, False, False, False, False, False, False, False, False, False, False, False, False, False, False, False, False, False, False, False, False, False, False, False, False, False, False, False, False, False, False, False, False, False, False, False, False, False, False, False, False, False, False, False, False, False, False, False, False, False, False, False, False, False, False, False, False, False, False, False, False, False, False, False, False, False, False, False, False, False, False, False, False, False, False, False, False, False, False, False, False, False, False, False, False, False, False, False, False, False, False, False, False, False, False, False, False, False, False, False, False, False, False, False, False, False, False, False, False, False, False, False, False, False, False, False, False, False, False, False, False, False, False, False, False, False, False, False, False, False, False, False, False, False, False, False, False, False, False, False, False, False, False, False, False, False, False, False, False, False, False, False, False, False, False, False, False, False, False, False, False, False, False, False, False, False, False, False, False, False, False, False, False, False, False, False, False, False, False, False, False, False, False, False, False, False, False, False, False, False, False, False, False, False, False, False, False, False, False, False, False, False, False, False, False, False, False, False, False, False, False, False, False, False, False, False, False, False, False, False, False, False, False, False, False, False, False, False, False, False, False, False, False, False, False, False, False, False, False, False, False, False, False, False, False, False, False, False, False, False, False, False, False, False, False, False, False, False, False, False, False, False, False, False, False, False, False, False, False, False, False, False, False, False, False, False, False, False, False, False, False, False, False, False, False, False, False, False, False, False, False, False, False, False, False, False, False, False, False, False, False, False, False, False, False, False, False, False, False, False, False, False, False, False, False, False, False, False, False, False, False, False, False, False, False, False, False, False, False, False, False, False, False, False, False, False, False, False, False, False, False, False, False, False, False, False, False, False, False, False, False, False, False, False, False, False, False, False, False, False, False, False, False, False, False, False, False, False, False, False, False, False, False, False, False, False, False, False, False, False, False, False, False, False, False, False, False, False, False, False, False, False, False, False, False, False, False, False, False, False, False, False, False, False, False, False, False, False, False, False, False, False, False, False, False, False, False, False, False, False, False, False, False, False, False, False, False, False, False, False, False, False, False, False, False, False, False, False, False, False, False, False, False, False, False, False, False, False, False, False, False, False, False, False, False, False, False, False, False, False, False, False, False, False, False, False, False, False, False, False, False, False, False, False, False, False, False, False, False, False, False, False, False, False, False, False, False, False, False, False, False, False, False, False, False, False, False, False, False, False, False, False, False, False, False, False, False, False, False, False, False, False, False, False, False, False, False, False, False, False, False, False, False, False, False, False, False, False, False, False, False, False, False, False, False, False, False, False, False, False, False, False, False, False, False, False, False, False, False, False, False, False, False, False, False, False, False, False, False, False, False, False, False, False, False, False, False, False, False, False, False, False, False, False, False, False, False, False, False, False, False, False, False, False, False, False, False, False, False, False, False, False, False, False, False, False, False, False, False, False, False, False, False, False, False, False, False, False, False, False, False, False, False, False, False, False, False, False, False, False, False, False, False, False, False, False, False, False, False, False, False, False, False, False, False, False, False, False, False, False, False, False, False, False, False, False, False, False, False, False, False, False, False, False, False, False, False, False, False, False, False, False, False, False, False, False, False, False, False, False, False, False, False, False, False, False, False, False, False, False, False, False, False, False, False, False, False, False, False, False, False, False, False, False, False, False, False, False, False, False, False, False, False, False, False, False, False, False, False, False, False, False, False, False, False, False, False, False, False, False, False, False, False, False, False, False, False, False, False, False, False, False, False, False, False, False, False, False, False, False, False, False, False, False, False, False, False, False, False, False, False, False, False, False, False, False, False, False, False, False, False, False, False, False, False, False, False, False, False, False, False, False, False, False, False, False, False, False, False, False, False, False, False, False, False, False, False, False, False, False, False, False, False, False, False, False, False, False, False, False, False, False, False, False, False, False, False, False, False, False, False, False, False, False, False, False, False, False, False, False, False, False, False, False, False, False, False, False, False, False, False, False, False, False, False, False, False, False, False, False, False, False, False, False, False, False, False, False, False, False, False, False, False, False, False, False, False, False, False, False, False, False, False, False, False, False, False, False, False, False, False, False, False, False, False, False, False, False, False, False, False, False, False, False, False, False, False, False, False, False, False, False, False, False, False, False, False, False, False, False, False, False, False, False, False, False, False, False, False, False, False, False, False, False, False, False, False, False, False, False, False, False, False, False, False, False, False, False, False, False, False, False, False, False, False, False, False, False, False, False, False, False, False, False, False, False, False, False, False, False, False, False, False, False, False, False, False, False, False, False, False, False, False, False, False, False, False, False, False, False, False, False, False, False, False, False, False, False, False, False, False, False, False, False, False, False, False, False, False, False, False, False, False, False, False, False, False, False, False, False, False, False, False, False, False, False, False, False, False, False, False, False, False, False, False, False, False, False, False, False, False, False, False, False, False, False, False, False, False, False, False, False, False, False, False, False, False, False, False, False, False, False, False, False, False, False, False, False, False, False, False, False, False, False, False, False, False, False, False, False, False, False, False, False, False, False, False, False, False, False, False, False, False, False, False, False, False, False, False, False, False, False, False, False, False, False, False, False, False, False, False, False, False, False, False, False, False, False, False, False, False, False, False, False, False, False, False, False, False, False, False, False, False, False, False, False, False, False, False, False, False, False, False, False, False, False, False, False, False, False, False, False, False, False, False, False, False, False, False, False, False, False, False, False, False, False, False, False, False, False, False, False, False, False, False, False, False, False, False, False, False, False, False, False, False, False, False, False, False, False, False, False, False, False, False, False, False, False, False, False, False, False, False, False, False, False, False, False, False, False, False, False, False, False, False, False, False, False, False, False, False, False, False, False, False, False, False, False, False, False, False, False, False, False, False, False, False, False, False, False, False, False, False, False, False, False, False, False, False, False, False, False, False, False, False, False, False, False, False, False, False, False, False, False, False, False, False, False, False, False, False, False, False, False, False, False, False, False, False, False, False, False, False, False, False, False, False, False, False, False, False, False, False, False, False, False, False, False, False, False, False, False, False, False, False, False, False, False, False, False, False, False, False, False, False, False, False, False, False, False, False, False, False, False, False, False, False, False, False, False, False, False, False, False, False, False]\n"
          ]
        }
      ],
      "source": [
        "# pp.pprint([x.get('productType',\"\") for x in obs_products[\"data\"]])\n",
        "# pp.pprint([x.get('calib_level',\"\") for x in obs_products[\"data\"]])\n",
        "\n",
        "all_calibs = [x.get('calib_level',\"\") for x in obs_products[\"data\"]]\n",
        "only_threes = [True if x == 3.0 else False for x in all_calibs]\n",
        "\n",
        "print(only_threes)\n"
      ]
    },
    {
      "cell_type": "markdown",
      "metadata": {
        "id": "MiiDnxiEh19h"
      },
      "source": [
        "Let's download all of the science products. \n",
        "We'll start by making an Astropy Table containing just the science product information.  Then we'll download the datafiles using two different methods."
      ]
    },
    {
      "cell_type": "code",
      "execution_count": 74,
      "metadata": {
        "colab": {
          "base_uri": "https://localhost:8080/"
        },
        "id": "CmqhCyCph19i",
        "outputId": "1c0a0f43-4573-4c3d-dc7e-dc4611fc9bf4"
      },
      "outputs": [
        {
          "output_type": "stream",
          "name": "stdout",
          "text": [
            "Number of science products: 6\n",
            " obsID   obs_collection dataproduct_type ... dataRights calib_level _selected_\n",
            "-------- -------------- ---------------- ... ---------- ----------- ----------\n",
            "87602454           JWST            image ...     PUBLIC         3.0      False\n",
            "87602454           JWST            image ...     PUBLIC         3.0      False\n",
            "87602454           JWST            image ...     PUBLIC         3.0      False\n",
            "87602454           JWST            image ...     PUBLIC         3.0      False\n",
            "87602454           JWST            image ...     PUBLIC         3.0      False\n",
            "87602454           JWST            image ...     PUBLIC         3.0      False\n"
          ]
        }
      ],
      "source": [
        "# sci_prod_arr = [x for x in obs_products['data'] if x.get(\"productType\", None) == 'SCIENCE' and x.get(\"calib_level\", None) == 3.0]\n",
        "sci_prod_arr = [x for x in obs_products['data'] if x.get(\"calib_level\", None) == 3.0]\n",
        "science_products = Table()\n",
        "\n",
        "for col, atype in [(x['name'], x['type']) for x in obs_products['fields']]:\n",
        "    if atype==\"string\":\n",
        "        atype=\"str\"\n",
        "    if atype==\"boolean\":\n",
        "        atype=\"bool\"\n",
        "    if atype == \"int\":\n",
        "        atype = \"float\" # array may contain nan values, and they do not exist in numpy integer arrays\n",
        "    science_products[col] = np.array([x.get(col,None) for x in sci_prod_arr],dtype=atype)\n",
        "\n",
        "print(\"Number of science products:\",len(science_products))\n",
        "print(science_products)"
      ]
    },
    {
      "cell_type": "markdown",
      "metadata": {
        "id": "SrpwrBXAh19i"
      },
      "source": [
        "### Step 4a: Downloading files individually\n",
        "We can directly download the data files one at a time, using the MAST download service, file endpoint. \n",
        "\n",
        "To download data files directly we really only need the 'dataURI' field, however we will also use the obs_collection, obs_id, and productFilename fields to create a unique download path for each file.\n",
        "\n",
        "We will loop through the files and download them, saving each one as mastFiles/obs_collection/obs_id/productFilename. While you can use any naming convention (or none) this one is recommended because it guarantees a unique path for each file."
      ]
    },
    {
      "cell_type": "code",
      "source": [
        "print(science_products.columns)"
      ],
      "metadata": {
        "colab": {
          "base_uri": "https://localhost:8080/"
        },
        "id": "wt_xtLxZqN12",
        "outputId": "0a77588d-a75f-449a-8269-15c7d192663c"
      },
      "execution_count": 75,
      "outputs": [
        {
          "output_type": "stream",
          "name": "stdout",
          "text": [
            "<TableColumns names=('obsID','obs_collection','dataproduct_type','obs_id','description','type','dataURI','productType','productGroupDescription','productSubGroupDescription','productDocumentationURL','project','prvversion','proposal_id','productFilename','size','parent_obsid','dataRights','calib_level','_selected_')>\n"
          ]
        }
      ]
    },
    {
      "cell_type": "code",
      "execution_count": 76,
      "metadata": {
        "colab": {
          "base_uri": "https://localhost:8080/"
        },
        "id": "vQ9KqCoXh19i",
        "outputId": "9054d0bc-4624-4e4a-9c76-97fa5881b9cb"
      },
      "outputs": [
        {
          "output_type": "stream",
          "name": "stdout",
          "text": [
            "COMPLETE:  mastFiles/JWST/jw02733-o001_t001_nircam_clear-f090w/jw02733-o001_t001_nircam_clear-f090w_segm.fits\n",
            "COMPLETE:  mastFiles/JWST/jw02733-o001_t001_nircam_clear-f090w/jw02733-o001_20220712t201523_image3_001_asn.json\n",
            "COMPLETE:  mastFiles/JWST/jw02733-o001_t001_nircam_clear-f090w/jw02733_20220712t201523_pool.csv\n",
            "COMPLETE:  mastFiles/JWST/jw02733-o001_t001_nircam_clear-f090w/jw02733-o001_t001_nircam_clear-f090w_i2d.jpg\n",
            "COMPLETE:  mastFiles/JWST/jw02733-o001_t001_nircam_clear-f090w/jw02733-o001_t001_nircam_clear-f090w_cat.ecsv\n",
            "COMPLETE:  mastFiles/JWST/jw02733-o001_t001_nircam_clear-f090w/jw02733-o001_t001_nircam_clear-f090w_i2d.fits\n"
          ]
        }
      ],
      "source": [
        "download_url = 'https://mast.stsci.edu/api/v0.1/Download/file?'\n",
        "\n",
        "for row in science_products:     \n",
        "\n",
        "    # make file path\n",
        "    out_path = os.path.join(\"mastFiles\", row['obs_collection'], row['obs_id'])\n",
        "    if not os.path.exists(out_path):\n",
        "        os.makedirs(out_path)\n",
        "    out_path = os.path.join(out_path, os.path.basename(row['productFilename']))\n",
        "        \n",
        "    # Download the data\n",
        "    payload = {\"uri\":row['dataURI']}\n",
        "    resp = requests.get(download_url, params=payload)\n",
        "    \n",
        "    # save to file\n",
        "    with open(out_path,'wb') as FLE:\n",
        "        FLE.write(resp.content)\n",
        "        \n",
        "    # check for file \n",
        "    if not os.path.isfile(out_path):\n",
        "        print(\"ERROR: \" + out_path + \" failed to download.\")\n",
        "    else:\n",
        "        print(\"COMPLETE: \", out_path)"
      ]
    },
    {
      "cell_type": "markdown",
      "metadata": {
        "id": "UBw1VIs1h19i"
      },
      "source": [
        "### Step 4a: Downloading products in a \"bundle\"\n",
        "This is how downloading is done through the Portal and will result in either a compressed file containing all the data products, or a curl script that can be run to download the data products at a later time. This can be a more complicated way to access data products, however it will produce exactly the same output as downloading through the Discovery Portal and the resulting file paths are guaranteed to be unique.\n",
        "\n",
        "We will use the MAST bundle service to download all of our desired data products as a gzipped tarball."
      ]
    },
    {
      "cell_type": "code",
      "execution_count": 22,
      "metadata": {
        "colab": {
          "base_uri": "https://localhost:8080/"
        },
        "id": "Amj9fa-Vh19i",
        "outputId": "b715de63-f728-4425-eac0-59ccfbcd4eee"
      },
      "outputs": [
        {
          "output_type": "stream",
          "name": "stdout",
          "text": [
            "COMPLETE:  mastDownload.tar.gz\n"
          ]
        }
      ],
      "source": [
        "url_list = [(\"uri\", url) for url in science_products['dataURI'][:2]]\n",
        "extension = \".tar.gz\"\n",
        "\n",
        "download_url = 'https://mast.stsci.edu/api/v0.1/Download/bundle'\n",
        "resp = requests.post(download_url + extension, data=url_list)\n",
        "\n",
        "out_file = \"mastDownload\" + extension\n",
        "with open(out_file, 'wb') as FLE:\n",
        "    FLE.write(resp.content)\n",
        "    \n",
        "# check for file \n",
        "if not os.path.isfile(out_file):\n",
        "    print(\"ERROR: \" + out_file + \" failed to download.\")\n",
        "else:\n",
        "    print(\"COMPLETE: \", out_file)"
      ]
    },
    {
      "cell_type": "code",
      "execution_count": null,
      "metadata": {
        "id": "zQVyWV21h19j"
      },
      "outputs": [],
      "source": [
        ""
      ]
    }
  ],
  "metadata": {
    "kernelspec": {
      "display_name": "Python 3",
      "language": "python",
      "name": "python3"
    },
    "language_info": {
      "codemirror_mode": {
        "name": "ipython",
        "version": 3
      },
      "file_extension": ".py",
      "mimetype": "text/x-python",
      "name": "python",
      "nbconvert_exporter": "python",
      "pygments_lexer": "ipython3",
      "version": "3.7.3"
    },
    "colab": {
      "name": "MastApiTutorial.ipynb",
      "provenance": [],
      "collapsed_sections": []
    }
  },
  "nbformat": 4,
  "nbformat_minor": 0
}